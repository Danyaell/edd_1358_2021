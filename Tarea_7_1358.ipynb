{
  "nbformat": 4,
  "nbformat_minor": 0,
  "metadata": {
    "colab": {
      "name": "Tarea_7_1358.ipynb",
      "provenance": [],
      "collapsed_sections": [],
      "authorship_tag": "ABX9TyMrRSzD8OfPg7Yr5uQGTt17",
      "include_colab_link": true
    },
    "kernelspec": {
      "name": "python3",
      "display_name": "Python 3"
    }
  },
  "cells": [
    {
      "cell_type": "markdown",
      "metadata": {
        "id": "view-in-github",
        "colab_type": "text"
      },
      "source": [
        "<a href=\"https://colab.research.google.com/github/Danyaell/edd_1358_2021/blob/master/Tarea_7_1358.ipynb\" target=\"_parent\"><img src=\"https://colab.research.google.com/assets/colab-badge.svg\" alt=\"Open In Colab\"/></a>"
      ]
    },
    {
      "cell_type": "code",
      "metadata": {
        "id": "VvyB7A8z7Hcl"
      },
      "source": [
        "import sys\n",
        "\n",
        "class Stack:\n",
        "    def __init__(self):\n",
        "        self.__data = []\n",
        "        self.__size = 0\n",
        "\n",
        "    def pop(self):\n",
        "        return self.__data.pop()\n",
        "\n",
        "    def get_size(self):\n",
        "        return self.__size\n",
        "        \n",
        "    def peek(self):\n",
        "        return self.__data[-1]\n",
        "\n",
        "    def push(self, value):\n",
        "        self.__data.append(value)\n",
        "\n",
        "    def to_string(self):\n",
        "        print(\"-----\")\n",
        "        for dato in self.__data[::-1]:\n",
        "            print(f\"| { dato } |\")\n",
        "            print(\"-----\")"
      ],
      "execution_count": 51,
      "outputs": []
    },
    {
      "cell_type": "code",
      "metadata": {
        "colab": {
          "base_uri": "https://localhost:8080/"
        },
        "id": "AFEEblEe9Pdj",
        "outputId": "48757724-19a8-42b2-cd04-dcd62d95a9fc"
      },
      "source": [
        "pl = Stack()\n",
        "pl.push(10)\n",
        "pl.push(45)\n",
        "pl.push(4)\n",
        "pl.push(23)\n",
        "pl.push(33)\n",
        "pl.to_string()\n",
        "valor = pl.pop()\n",
        "print(valor*2)\n",
        "pl.to_string()\n",
        "valor = pl.peek()\n",
        "print(valor*2)\n",
        "pl.to_string()\n",
        "pl.get_size()"
      ],
      "execution_count": 33,
      "outputs": [
        {
          "output_type": "stream",
          "text": [
            "-----\n",
            "| 33 |\n",
            "-----\n",
            "| 23 |\n",
            "-----\n",
            "| 4 |\n",
            "-----\n",
            "| 45 |\n",
            "-----\n",
            "| 10 |\n",
            "-----\n",
            "66\n",
            "-----\n",
            "| 23 |\n",
            "-----\n",
            "| 4 |\n",
            "-----\n",
            "| 45 |\n",
            "-----\n",
            "| 10 |\n",
            "-----\n",
            "46\n",
            "-----\n",
            "| 23 |\n",
            "-----\n",
            "| 4 |\n",
            "-----\n",
            "| 45 |\n",
            "-----\n",
            "| 10 |\n",
            "-----\n"
          ],
          "name": "stdout"
        },
        {
          "output_type": "execute_result",
          "data": {
            "text/plain": [
              "0"
            ]
          },
          "metadata": {
            "tags": []
          },
          "execution_count": 33
        }
      ]
    },
    {
      "cell_type": "code",
      "metadata": {
        "colab": {
          "base_uri": "https://localhost:8080/",
          "height": 183
        },
        "id": "7bBCDkhyB3Cd",
        "outputId": "7987b0da-8515-4fbe-9e2c-a83f9c2febc2"
      },
      "source": [
        "# Aplicación de la estructura Stack\n",
        "# 1.- Validación de paréntesis balanceados '(' , '{' y '['\n",
        "\n",
        "cadena = \"b=3*(5+(4/2)))\"\n",
        "pila = Stack()\n",
        "pila.push(\"#\") # Carácter de pila vacía\n",
        "for elem in cadena:\n",
        "    if elem == '(' :\n",
        "        pila.push('*')\n",
        "    elif elem == ')' and pila.peek() != '#' :\n",
        "            pila.pop()\n",
        "    elif elem == ')' and pila.peek() == '#':\n",
        "        sys.exit(\"Error. Hay más paréntesis de cierre que de apertura. \\nLa ecuación no está balanceada.\")\n",
        "\n",
        "if pila.peek() == '#':\n",
        "    print(\"La expreción está balanceada\")\n",
        "elif pila.peek() == '*':\n",
        "    print(\" La expresión no está balanceada\")"
      ],
      "execution_count": 56,
      "outputs": [
        {
          "output_type": "error",
          "ename": "SystemExit",
          "evalue": "ignored",
          "traceback": [
            "An exception has occurred, use %tb to see the full traceback.\n",
            "\u001b[0;31mSystemExit\u001b[0m\u001b[0;31m:\u001b[0m Error. Hay más paréntesis de cierre que de apertura. \nLa ecuación no está balanceada.\n"
          ]
        },
        {
          "output_type": "stream",
          "text": [
            "/usr/local/lib/python3.6/dist-packages/IPython/core/interactiveshell.py:2890: UserWarning: To exit: use 'exit', 'quit', or Ctrl-D.\n",
            "  warn(\"To exit: use 'exit', 'quit', or Ctrl-D.\", stacklevel=1)\n"
          ],
          "name": "stderr"
        }
      ]
    }
  ]
}