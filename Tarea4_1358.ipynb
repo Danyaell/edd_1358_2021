{
  "nbformat": 4,
  "nbformat_minor": 0,
  "metadata": {
    "colab": {
      "name": "Tarea4_1358.ipynb",
      "provenance": [],
      "collapsed_sections": [],
      "authorship_tag": "ABX9TyNWS1uAJbQE5JjPxcfwCqDm",
      "include_colab_link": true
    },
    "kernelspec": {
      "name": "python3",
      "display_name": "Python 3"
    }
  },
  "cells": [
    {
      "cell_type": "markdown",
      "metadata": {
        "id": "view-in-github",
        "colab_type": "text"
      },
      "source": [
        "<a href=\"https://colab.research.google.com/github/Danyaell/edd_1358_2021/blob/master/Tarea4_1358.ipynb\" target=\"_parent\"><img src=\"https://colab.research.google.com/assets/colab-badge.svg\" alt=\"Open In Colab\"/></a>"
      ]
    },
    {
      "cell_type": "code",
      "metadata": {
        "id": "lLPq3dY89CHn"
      },
      "source": [
        "class Nodo:\n",
        "    def __init__( self , dato, siguiente=None ):\n",
        "        self.dato = dato\n",
        "        self.siguiente = siguiente\n",
        "\n",
        "class LinkedList:\n",
        "  def __init__ ( self ):\n",
        "    self.__head = None\n",
        "\n",
        "  def is_empty( self ):\n",
        "    return self.__head == None\n",
        "  \n",
        "  def tail( self ):\n",
        "    curr_node = self.__head\n",
        "    while curr_node != None and curr_node.siguiente != None:\n",
        "      curr_node = curr_node.siguiente\n",
        "    return curr_node\n",
        "\n",
        "  def append( self, value ):\n",
        "    nuevo = Nodo( value )\n",
        "    if self.__head == None:\n",
        "      self.__head = nuevo\n",
        "    else:\n",
        "      self.tail().siguiente = nuevo\n",
        "  \n",
        "  def transeversal(self ):\n",
        "    curr_node = self.__head\n",
        "    if curr_node == None:\n",
        "      print(\"Lista vacia\")\n",
        "    else:\n",
        "      while curr_node != None:\n",
        "        print(f\"{ curr_node.dato } --->\", end =\"\")\n",
        "        curr_node = curr_node.siguiente\n",
        "    print( \"\\n\" )\n",
        "\n",
        "  def prepend( self, value ):\n",
        "    nuevo = Nodo( value )\n",
        "    \n",
        "    if self.__head == None:\n",
        "      self.__head == nuevo\n",
        "    else:\n",
        "      x = self.__head\n",
        "      self.__head = nuevo\n",
        "      nuevo.siguiente = x\n",
        "\n",
        "  def remove ( self, value ):\n",
        "    curr_node = self.__head\n",
        "    if self.__head == value:\n",
        "      self.__head = self.__head.siguiente\n",
        "    else:\n",
        "      while curr_node.siguiente != None:\n",
        "        if curr_node.siguiente.dato == value:\n",
        "          curr_node.siguiente = curr_node.siguiente.siguiente\n",
        "          break\n",
        "        else:\n",
        "          curr_node = curr_node.siguiente\n",
        "\n",
        "  def pop( self, posicion=None ):\n",
        "    if posicion == 0:\n",
        "      Aux = self.__head\n",
        "      self.__head = self.__head.siguiente\n",
        "      print( Aux.dato )\n",
        "    contador = 0\n",
        "    curr_node = self.__head\n",
        "\n",
        "    while curr_node.siguiente != None:\n",
        "      if contador+1 == posicion:\n",
        "        aux = curr_node.siguiente.dato\n",
        "        curr_node.siguiente = curr_node.siguiente.siguiente\n",
        "        print( aux )\n",
        "        break\n",
        "      else:\n",
        "        contador = contador + 1\n",
        "        curr_node = curr_node.siguiente\n",
        "\n",
        "    while curr_node.siguiente != None:\n",
        "      if posicion < 0:\n",
        "        print( \"No existe ese elemento\" )\n",
        "        \n",
        "      else:\n",
        "        contador = contador + 1\n",
        "        curr_node = curr_node.siguiente"
      ],
      "execution_count": 1,
      "outputs": []
    },
    {
      "cell_type": "code",
      "metadata": {
        "colab": {
          "base_uri": "https://localhost:8080/"
        },
        "id": "RHDIorNW9aGU",
        "outputId": "7a5034ca-4a13-4dea-96f5-d3fd0d980ffa"
      },
      "source": [
        "l = LinkedList()\n",
        "print(f\"¿l esta vacia? =  {l.is_empty()} \\n\")\n",
        "x = l.tail()\n",
        "print( x )\n",
        "l.append(10)\n",
        "l.append(20)\n",
        "l.append(30)\n",
        "l.append(30)\n",
        "l.append(40)\n",
        "l.append(50)\n",
        "l.transeversal( )\n",
        "l.prepend( 5 )\n",
        "print( \"\\n\" )\n",
        "l.transeversal()\n",
        "print(\"Removemos el 30, ya que es un dato que se repite: \\n\")\n",
        "l.remove( 30 )\n",
        "l.transeversal()\n",
        "print(\"Removemos el tercer dato: \\n\")\n",
        "l.pop( 2 )\n",
        "l.transeversal()\n",
        "print(\"head \\n\")\n",
        "l.pop( 0 )\n",
        "l.transeversal()"
      ],
      "execution_count": 6,
      "outputs": [
        {
          "output_type": "stream",
          "text": [
            "¿l esta vacia? =  True \n",
            "\n",
            "None\n",
            "10 --->20 --->30 --->30 --->40 --->50 --->\n",
            "\n",
            "\n",
            "\n",
            "5 --->10 --->20 --->30 --->30 --->40 --->50 --->\n",
            "\n",
            "Removemos el 30, ya que es un dato que se repite: \n",
            "\n",
            "5 --->10 --->20 --->30 --->40 --->50 --->\n",
            "\n",
            "Removemos el tercer dato: \n",
            "\n",
            "20\n",
            "5 --->10 --->30 --->40 --->50 --->\n",
            "\n",
            "head \n",
            "\n",
            "5\n",
            "10 --->30 --->40 --->50 --->\n",
            "\n"
          ],
          "name": "stdout"
        }
      ]
    }
  ]
}