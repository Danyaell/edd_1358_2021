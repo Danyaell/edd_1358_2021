{
  "nbformat": 4,
  "nbformat_minor": 0,
  "metadata": {
    "colab": {
      "name": "30_noviembre_1358.ipynb",
      "provenance": [],
      "collapsed_sections": [],
      "authorship_tag": "ABX9TyMWj6QESLKIn4me04CIqLld",
      "include_colab_link": true
    },
    "kernelspec": {
      "name": "python3",
      "display_name": "Python 3"
    }
  },
  "cells": [
    {
      "cell_type": "markdown",
      "metadata": {
        "id": "view-in-github",
        "colab_type": "text"
      },
      "source": [
        "<a href=\"https://colab.research.google.com/github/Danyaell/edd_1358_2021/blob/master/30_noviembre_1358.ipynb\" target=\"_parent\"><img src=\"https://colab.research.google.com/assets/colab-badge.svg\" alt=\"Open In Colab\"/></a>"
      ]
    },
    {
      "cell_type": "code",
      "metadata": {
        "id": "VvyB7A8z7Hcl"
      },
      "source": [
        "class Stack:\n",
        "    def __init__(self):\n",
        "        self.__data = []\n",
        "        self.__size = 0\n",
        "\n",
        "    def pop(self):\n",
        "        return self.__data.pop()\n",
        "\n",
        "    def peek(self):\n",
        "        return self.__data[-1]\n",
        "\n",
        "    def push(self, value):\n",
        "        self.__data.append(value)\n",
        "\n",
        "    def to_string(self):\n",
        "        print(\"-----\")\n",
        "        for dato in self.__data[::-1]:\n",
        "            print(f\"| { dato } |\")\n",
        "            print(\"-----\")"
      ],
      "execution_count": 13,
      "outputs": []
    },
    {
      "cell_type": "code",
      "metadata": {
        "colab": {
          "base_uri": "https://localhost:8080/"
        },
        "id": "AFEEblEe9Pdj",
        "outputId": "8533bb53-7727-4974-c3be-94076662d390"
      },
      "source": [
        "pl = Stack()\n",
        "pl.push(10)\n",
        "pl.push(45)\n",
        "pl.push(4)\n",
        "pl.push(23)\n",
        "pl.push(33)\n",
        "pl.to_string()\n",
        "valor = pl.pop()\n",
        "print(valor*2)\n",
        "pl.to_string()\n",
        "valor = pl.peek()\n",
        "print(valor*2)\n",
        "pl.to_string()"
      ],
      "execution_count": 15,
      "outputs": [
        {
          "output_type": "stream",
          "text": [
            "-----\n",
            "| 33 |\n",
            "-----\n",
            "| 23 |\n",
            "-----\n",
            "| 4 |\n",
            "-----\n",
            "| 45 |\n",
            "-----\n",
            "| 10 |\n",
            "-----\n",
            "66\n",
            "-----\n",
            "| 23 |\n",
            "-----\n",
            "| 4 |\n",
            "-----\n",
            "| 45 |\n",
            "-----\n",
            "| 10 |\n",
            "-----\n",
            "46\n",
            "-----\n",
            "| 23 |\n",
            "-----\n",
            "| 4 |\n",
            "-----\n",
            "| 45 |\n",
            "-----\n",
            "| 10 |\n",
            "-----\n"
          ],
          "name": "stdout"
        }
      ]
    },
    {
      "cell_type": "code",
      "metadata": {
        "colab": {
          "base_uri": "https://localhost:8080/"
        },
        "id": "7bBCDkhyB3Cd",
        "outputId": "46d0a6ff-7720-4be0-cdc0-4b1c442ff7e3"
      },
      "source": [
        "# Aplicación de la estructura Stack\n",
        "# 1.- Validación de paréntesis balanceados '(' , '{' y '['\n",
        "\n",
        "cadena = \"b=3*(5+(4/2))\"\n",
        "pila = Stack()\n",
        "pila.push(\"#\") # Carácter de pila vacía\n",
        "for elem in cadena:\n",
        "    if elem == '(' :\n",
        "        pila.push('*')\n",
        "    elif elem == ')':\n",
        "        pila.pop()\n",
        "    else:\n",
        "        pass\n",
        "if pila.peek() == '#':\n",
        "    print(\"La expreción está balanceada\")\n",
        "else:\n",
        "    print(\" La expresión no está balanceada\")"
      ],
      "execution_count": 28,
      "outputs": [
        {
          "output_type": "stream",
          "text": [
            "La expreción está balanceada\n"
          ],
          "name": "stdout"
        }
      ]
    }
  ]
}