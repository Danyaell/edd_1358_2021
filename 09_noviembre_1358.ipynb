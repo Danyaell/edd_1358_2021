{
  "nbformat": 4,
  "nbformat_minor": 0,
  "metadata": {
    "colab": {
      "name": "09_noviembre_1358",
      "provenance": [],
      "collapsed_sections": [],
      "authorship_tag": "ABX9TyMSTT+TSIm/woKxsUfN4qaH",
      "include_colab_link": true
    },
    "kernelspec": {
      "name": "python3",
      "display_name": "Python 3"
    }
  },
  "cells": [
    {
      "cell_type": "markdown",
      "metadata": {
        "id": "view-in-github",
        "colab_type": "text"
      },
      "source": [
        "<a href=\"https://colab.research.google.com/github/Danyaell/edd_1358_2021/blob/master/09_noviembre_1358.ipynb\" target=\"_parent\"><img src=\"https://colab.research.google.com/assets/colab-badge.svg\" alt=\"Open In Colab\"/></a>"
      ]
    },
    {
      "cell_type": "code",
      "metadata": {
        "colab": {
          "base_uri": "https://localhost:8080/"
        },
        "id": "_6B-5ZaDL6S8",
        "outputId": "9d7b482c-d506-416c-f3e5-8cb6ed0696e2"
      },
      "source": [
        " class Nodo:\n",
        "  def __init__ (self, dato):\n",
        "    self.__dato = dato\n",
        "    self.__siguiente = None\n",
        " \n",
        "  def get_dato(self):\n",
        "    return self.__dato\n",
        " \n",
        "  def set_dato(self, d):\n",
        "    self.__dato = d\n",
        " \n",
        "  def get_siguiente (self):\n",
        "    return self.__siguiente\n",
        " \n",
        "  def set_siguiente(self, d):\n",
        "    self.__siguiente = d\n",
        " \n",
        "  def to_String(self):\n",
        "    return \" | \" + str(self.__dato) + \" | \" + str(self.__siguiente) + \" | -->\"\n",
        " \n",
        "  def show( self ):\n",
        "        curr_node = self # Head\n",
        "        print(\" Inicio de la estructura ligada:\")\n",
        "        print(\"|\" + str(curr_node.get_dato()) + \"| -->\" , end =\"\" )\n",
        "        while( curr_node.get_siguiente() != None ):\n",
        "            curr_node = curr_node.get_siguiente()\n",
        "            print(\"|\" + str(curr_node.get_dato() ) + \"| -->\" , end =\"\" )\n",
        "        print(\"\\nFin\")\n",
        "# Ejemplo 1\n",
        "a = Nodo( 10 )\n",
        "a.show()\n",
        " \n",
        " \n",
        "# ejemplo 2\n",
        " \n",
        "a.set_siguiente( Nodo(20) )\n",
        "a.show()\n",
        " #ejemplo\n",
        "a = Nodo( 10 )\n",
        "print(a.to_String())\n",
        " \n",
        "#ejemplo2\n",
        "a.set_siguiente(20)\n",
        "print(a.to_String())\n",
        " \n",
        "#ejemplo 3"
      ],
      "execution_count": 2,
      "outputs": [
        {
          "output_type": "stream",
          "text": [
            " Inicio de la estructura ligada:\n",
            "|10| -->\n",
            "Fin\n",
            " Inicio de la estructura ligada:\n",
            "|10| -->|20| -->\n",
            "Fin\n",
            " | 10 | None | -->\n",
            " | 10 | 20 | -->\n"
          ],
          "name": "stdout"
        }
      ]
    }
  ]
}