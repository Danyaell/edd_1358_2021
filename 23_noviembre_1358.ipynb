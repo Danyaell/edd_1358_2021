{
  "nbformat": 4,
  "nbformat_minor": 0,
  "metadata": {
    "colab": {
      "name": "23_noviembre_1358.ipynb",
      "provenance": [],
      "collapsed_sections": [],
      "authorship_tag": "ABX9TyNn8yG8TWxHLc6CaGGHKnFX",
      "include_colab_link": true
    },
    "kernelspec": {
      "name": "python3",
      "display_name": "Python 3"
    }
  },
  "cells": [
    {
      "cell_type": "markdown",
      "metadata": {
        "id": "view-in-github",
        "colab_type": "text"
      },
      "source": [
        "<a href=\"https://colab.research.google.com/github/Danyaell/edd_1358_2021/blob/master/23_noviembre_1358.ipynb\" target=\"_parent\"><img src=\"https://colab.research.google.com/assets/colab-badge.svg\" alt=\"Open In Colab\"/></a>"
      ]
    },
    {
      "cell_type": "code",
      "metadata": {
        "id": "2SAEXEpID4Qe"
      },
      "source": [
        "class Nodo:\n",
        "    def init( self , dato , siguiente=None ):\n",
        "        self.dato = dato\n",
        "        self.siguiente = siguiente\n",
        "\n",
        "class LinkedList:\n",
        "    def init( self ):\n",
        "        self.head = None\n",
        "\n",
        "    def is_empty( self ):\n",
        "      return self.head == None\n",
        "\n",
        "    def tail ( self ):\n",
        "      curr_node = self.__head\n",
        "      while curr_node != None and curr_node.siguiente !=None:\n",
        "        curr_node  = curr_node.siguiente\n",
        "      return curr_node\n",
        "l = LinkedList()\n",
        "print( f\"1 esta vacias?= { l.is_empty() } \" )\n",
        "x=l.tail()\n",
        "print(x)\n",
        "\n",
        "l = LinkedList()\n",
        "print(f\"l esta vacia?= { l.is_empty() }\")\n",
        "x = l.tail()\n",
        "print( x)\n",
        "l.append(10)\n",
        "l.append(20)\n",
        "l.append(30)\n",
        "l.append(40)\n",
        "l.transversal()\n",
        "\n",
        "def tail( self ):\n",
        "        curr_node = self.__head\n",
        "        while curr_node != None and curr_node.siguiente !=None:\n",
        "            curr_node = curr_node.siguiente\n",
        "        return curr_node\n",
        "\n",
        "    def append( self , value ):\n",
        "        nuevo = Nodo( value )\n",
        "        if self.__head == None:\n",
        "            self.__head = nuevo\n",
        "        else:\n",
        "            self.tail().siguiente = nuevo\n",
        "    \n",
        "    def transversal( self ):\n",
        "        curr_node = self.__head\n",
        "        if curr_node == None:\n",
        "            print(\"Lista vacia\")\n",
        "        else:\n",
        "            while curr_node != None:\n",
        "                print(f\"{ curr_node.dato } -->\", end=\" \")\n",
        "                curr_node = curr_node.siguiente"
      ],
      "execution_count": null,
      "outputs": []
    }
  ]
}