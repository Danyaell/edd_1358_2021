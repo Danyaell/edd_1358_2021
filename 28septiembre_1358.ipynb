{
  "nbformat": 4,
  "nbformat_minor": 0,
  "metadata": {
    "colab": {
      "name": "28septiembre_1358.ipynb",
      "provenance": [],
      "collapsed_sections": [],
      "authorship_tag": "ABX9TyOIcs0z4v4ssrDfrQrMEf6G",
      "include_colab_link": true
    },
    "kernelspec": {
      "name": "python3",
      "display_name": "Python 3"
    }
  },
  "cells": [
    {
      "cell_type": "markdown",
      "metadata": {
        "id": "view-in-github",
        "colab_type": "text"
      },
      "source": [
        "<a href=\"https://colab.research.google.com/github/Danyaell/edd_1358_2021/blob/master/28septiembre_1358.ipynb\" target=\"_parent\"><img src=\"https://colab.research.google.com/assets/colab-badge.svg\" alt=\"Open In Colab\"/></a>"
      ]
    },
    {
      "cell_type": "code",
      "metadata": {
        "id": "tOSgAexxXMjY",
        "outputId": "744da7e7-f962-484f-b2f8-dfd853823a78",
        "colab": {
          "base_uri": "https://localhost:8080/",
          "height": 34
        }
      },
      "source": [
        "print (\"Hola colab research\")\n",
        "nombre = \"EdD\""
      ],
      "execution_count": null,
      "outputs": [
        {
          "output_type": "stream",
          "text": [
            "Hola colab research\n"
          ],
          "name": "stdout"
        }
      ]
    },
    {
      "cell_type": "code",
      "metadata": {
        "id": "e3ZnymieYaiX",
        "outputId": "74180d28-5d7c-43f6-a352-fbe5874f252a",
        "colab": {
          "base_uri": "https://localhost:8080/",
          "height": 34
        }
      },
      "source": [
        "print(nombre)"
      ],
      "execution_count": null,
      "outputs": [
        {
          "output_type": "stream",
          "text": [
            "EdD\n"
          ],
          "name": "stdout"
        }
      ]
    },
    {
      "cell_type": "markdown",
      "metadata": {
        "id": "DLwXcInYZz-a"
      },
      "source": [
        "(sintáxis Markdown)\n",
        "# Hola. Esto es un encabezado\n",
        "## Encabezado nivel 2\n",
        "\n",
        "* elem 1\n",
        "* elem 2\n",
        "* elem 3\n",
        "\n",
        "1. fresa\n",
        "1. manzana\n",
        "1. pera\n",
        "\n",
        "Esto es un texto largo y quiero poner **negritas** y también quiero poner _itálica_."
      ]
    },
    {
      "cell_type": "code",
      "metadata": {
        "id": "hNQghRB-cDbt"
      },
      "source": [
        "class Silla(object):\n",
        "  def __init__ ( self ):\n",
        "    self.material = \"\"\n",
        "    self.color = \"\"\n",
        "\n",
        "  def to_string( self ):\n",
        "    print( \" -------- \")\n",
        "    print( f\" Material: { self.material } \" )\n",
        "    print( f\" {self.color} ------ \" )"
      ],
      "execution_count": null,
      "outputs": []
    },
    {
      "cell_type": "code",
      "metadata": {
        "id": "t07iGCbpd6xW",
        "outputId": "ef409a92-3a3d-4057-dd05-4467c2fde106",
        "colab": {
          "base_uri": "https://localhost:8080/",
          "height": 68
        }
      },
      "source": [
        "obj = Silla()\n",
        "obj.material = \"Madera\"\n",
        "obj.color = \"Café\"\n",
        "obj.to_string()"
      ],
      "execution_count": null,
      "outputs": [
        {
          "output_type": "stream",
          "text": [
            " -------- \n",
            " Material: Madera \n",
            " Café ------ \n"
          ],
          "name": "stdout"
        }
      ]
    }
  ]
}