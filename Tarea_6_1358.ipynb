{
  "nbformat": 4,
  "nbformat_minor": 0,
  "metadata": {
    "colab": {
      "name": "Tarea_6_1358.ipynb",
      "provenance": [],
      "collapsed_sections": [],
      "authorship_tag": "ABX9TyOd4+NfjSyFTGtI3N1rLayl",
      "include_colab_link": true
    },
    "kernelspec": {
      "name": "python3",
      "display_name": "Python 3"
    }
  },
  "cells": [
    {
      "cell_type": "markdown",
      "metadata": {
        "id": "view-in-github",
        "colab_type": "text"
      },
      "source": [
        "<a href=\"https://colab.research.google.com/github/Danyaell/edd_1358_2021/blob/master/Tarea_6_1358.ipynb\" target=\"_parent\"><img src=\"https://colab.research.google.com/assets/colab-badge.svg\" alt=\"Open In Colab\"/></a>"
      ]
    },
    {
      "cell_type": "code",
      "metadata": {
        "id": "x2nhmj_D-3Oz"
      },
      "source": [
        "class Nodo:\n",
        "    def __init__( self , dato, siguiente=None ):\n",
        "        self.dato = dato\n",
        "        self.siguiente = siguiente\n",
        "\n",
        "class ListaCircular:\n",
        "  def __init__( self ):\n",
        "    self.__ref = None\n",
        "    self.__size = 0\n",
        "\n",
        "  def is_empty( self ):\n",
        "    return self.__ref == None\n",
        "\n",
        "  def get_size(self):\n",
        "    return self.__size\n",
        "\n",
        "  def insert ( self, value ):\n",
        "    if self.__ref == None:\n",
        "      self.__ref = Nodo( value, self.__ref )\n",
        "    else:\n",
        "      if self.__size == 1:\n",
        "        if value <= self.__ref.dato:\n",
        "          self.__ref.siguiente = Nodo( value, self.__ref)\n",
        "        if value >= self.__ref.dato:\n",
        "          self.__ref.siguiente = Nodo( value, self.__ref)\n",
        "          self.__ref = self.__ref.siguiente\n",
        "      else:\n",
        "        if value <= self.__ref.siguiente.dato or value >= self.__ref.dato:\n",
        "          \n",
        "          if value <= self.__ref.siguiente.dato:\n",
        "            self.__ref.siguiente = Nodo( value, self.__ref.siguiente )\n",
        "          if value >= self.__ref.dato:\n",
        "            self.__ref.siguiente = Nodo( value, self.__ref.siguiente )\n",
        "            self.__ref = self.__ref.siguiente\n",
        "        else:\n",
        "            curr_node = self.__ref.siguiente\n",
        "            while curr_node.dato != self.__ref.dato:\n",
        "              if value > curr_node.dato and value < curr_node.siguiente.dato:\n",
        "                curr_node.siguiente = Nodo( value, curr_node.siguiente )\n",
        "              curr_node = curr_node.siguiente\n",
        "    self.__size = self.__size + 1\n",
        "\n",
        "  def transversal( self ):  \n",
        "    curr_node = self.__ref\n",
        "    if curr_node == None:\n",
        "      print(\"La lista está vacia\")\n",
        "    else: \n",
        "      print(f\"Valor referencia ----> { curr_node.dato } --->\", end =\"\")\n",
        "      curr_node = curr_node.siguiente\n",
        "      while curr_node != self.__ref:\n",
        "        print(f\"{ curr_node.dato } --->\", end =\"\")\n",
        "        curr_node = curr_node.siguiente\n",
        "      print(f\"{ curr_node.dato } <---- Valor de referencia\")\n",
        "      curr_node = curr_node.siguiente\n",
        "\n",
        "  def search( self, value ):\n",
        "    curr_node = self.__ref\n",
        "    Existe = False\n",
        "    #print(\"entre 1\")\n",
        "    if curr_node.dato == value :\n",
        "      Existe = True\n",
        "      #print(\"entre 2\")\n",
        "    else:\n",
        "     # print(\"entre 3\")\n",
        "      curr_node = curr_node.siguiente\n",
        "      while curr_node != self.__ref: \n",
        "        \n",
        "        if curr_node.dato == value:\n",
        "          #print(\"entre 5\")\n",
        "          Existe = True\n",
        "        curr_node = curr_node.siguiente\n",
        "    return Existe\n",
        "\n",
        "  def remove (self, value):\n",
        "    curr_node = self.__ref\n",
        "    while curr_node.siguiente != self.__ref:\n",
        "      if curr_node.siguiente.dato == value:\n",
        "        curr_node.siguiente = curr_node.siguiente.siguiente\n",
        "        self.__size = self.__size - 1\n",
        "      else:\n",
        "        curr_node = curr_node.siguiente\n",
        "    if curr_node.siguiente.dato == value:\n",
        "      curr_node.siguiente = curr_node.siguiente.siguiente\n",
        "      self.__ref = curr_node\n",
        "      self.__size = self.__size - 1"
      ],
      "execution_count": 4,
      "outputs": []
    },
    {
      "cell_type": "code",
      "metadata": {
        "colab": {
          "base_uri": "https://localhost:8080/"
        },
        "id": "gGjaxJII_DO_",
        "outputId": "4551ee17-10e9-48d6-924f-5e9aea945bfc"
      },
      "source": [
        "LC = ListaCircular()\n",
        "print(f\"Esta vacia? = {LC.is_empty()}\")\n",
        "LC.insert(30)\n",
        "LC.insert(80)\n",
        "LC.insert(20)\n",
        "LC.insert(90)\n",
        "LC.insert(10)\n",
        "LC.insert(100)\n",
        "LC.insert(40)\n",
        "LC.insert(70)\n",
        "LC.insert(50)\n",
        "LC.insert(60)\n",
        "LC.transversal()\n",
        "print(\"-------------------------------------\")\n",
        "print(f\"{LC.search(30)}\")\n",
        "#LC.search(30)\n",
        "print(f\"{LC.search(55)}\")\n",
        "print(f\"{LC.search(100)}\")\n",
        "#print(f\"{LC.get_size()}\")\n",
        "print(\"-------------------------------------\")\n",
        "LC.remove(50)\n",
        "LC.remove(30)\n",
        "LC.remove(100)\n",
        "LC.remove(90)\n",
        "LC.remove(20)\n",
        "LC.transversal()"
      ],
      "execution_count": 5,
      "outputs": [
        {
          "output_type": "stream",
          "text": [
            "Esta vacia? = True\n",
            "Valor referencia ----> 100 --->10 --->20 --->30 --->40 --->50 --->60 --->70 --->80 --->90 --->100 <---- Valor de referencia\n",
            "-------------------------------------\n",
            "True\n",
            "False\n",
            "True\n",
            "-------------------------------------\n",
            "Valor referencia ----> 80 --->10 --->40 --->60 --->70 --->80 <---- Valor de referencia\n"
          ],
          "name": "stdout"
        }
      ]
    }
  ]
}