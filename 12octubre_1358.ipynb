{
  "nbformat": 4,
  "nbformat_minor": 0,
  "metadata": {
    "colab": {
      "name": "12octubre_1358.ipynb",
      "provenance": [],
      "collapsed_sections": [],
      "authorship_tag": "ABX9TyN9PsBq1yBYDcjmfVRSJoIC",
      "include_colab_link": true
    },
    "kernelspec": {
      "name": "python3",
      "display_name": "Python 3"
    }
  },
  "cells": [
    {
      "cell_type": "markdown",
      "metadata": {
        "id": "view-in-github",
        "colab_type": "text"
      },
      "source": [
        "<a href=\"https://colab.research.google.com/github/Danyaell/edd_1358_2021/blob/master/12octubre_1358.ipynb\" target=\"_parent\"><img src=\"https://colab.research.google.com/assets/colab-badge.svg\" alt=\"Open In Colab\"/></a>"
      ]
    },
    {
      "cell_type": "code",
      "metadata": {
        "id": "0psNG6wwWG4u",
        "outputId": "78d89ba9-ca2b-4d2a-e88f-8868db932c7a",
        "colab": {
          "base_uri": "https://localhost:8080/",
          "height": 122
        }
      },
      "source": [
        "# Diccionarios (continuación)\n",
        "cliente_banco = {\n",
        "    \"id\":1,\n",
        "    \"nombres\": [\"Juan\",\"Antonio\"],\n",
        "    \"paterno\": \"Garcia\",\n",
        "    \"materno\": \"Pérez\",\n",
        "    \"teléfnonos\": {\n",
        "        \"casa\": 5566778899,\n",
        "        \"celular\": 5544332211,\n",
        "        \"trabajo\": 5566223311\n",
        "    },\n",
        "    \"activo\": True,\n",
        "    \"balance\": 234567.89,\n",
        "    \"tarjetas\": ({\"tipo\":\"débito\",\"saldo\":12000},\n",
        "                 {\"tipo\":\"crédito\",\"saldo\":3500.00})\n",
        "}\n",
        "\n",
        "print(cliente_banco)\n",
        "#cliente_banco[\"balance\"] = cliente_banco[\"balance\"] - 1000.0\n",
        "cliente_banco[\"balance\"] -= 1000.0\n",
        "print(cliente_banco)\n",
        "\n",
        "cliente_banco[\"tarjetas\"] = ({\"tipo\":\"débito\",\"saldo\":12000},\n",
        "                             {\"tipo\":\"crédito\",\"saldo\":3500.00},\n",
        "                             {\"tipo\":\"credito\",\"nivel\":\"oro\",\"saldo\":50000})\n",
        "print(cliente_banco)\n",
        "\n",
        "cliente_banco[\"dirección\"] = {\"calle\":\"rancho seco\",\"num\":23}\n",
        "print(cliente_banco)\n",
        "cliente_banco.pop(\"tarjetas\")\n",
        "print(cliente_banco)"
      ],
      "execution_count": 11,
      "outputs": [
        {
          "output_type": "stream",
          "text": [
            "{'id': 1, 'nombres': ['Juan', 'Antonio'], 'paterno': 'Garcia', 'materno': 'Pérez', 'teléfnonos': {'casa': 5566778899, 'celular': 5544332211, 'trabajo': 5566223311}, 'activo': True, 'balance': 234567.89, 'tarjetas': ({'tipo': 'débito', 'saldo': 12000}, {'tipo': 'crédito', 'saldo': 3500.0})}\n",
            "{'id': 1, 'nombres': ['Juan', 'Antonio'], 'paterno': 'Garcia', 'materno': 'Pérez', 'teléfnonos': {'casa': 5566778899, 'celular': 5544332211, 'trabajo': 5566223311}, 'activo': True, 'balance': 233567.89, 'tarjetas': ({'tipo': 'débito', 'saldo': 12000}, {'tipo': 'crédito', 'saldo': 3500.0})}\n",
            "{'id': 1, 'nombres': ['Juan', 'Antonio'], 'paterno': 'Garcia', 'materno': 'Pérez', 'teléfnonos': {'casa': 5566778899, 'celular': 5544332211, 'trabajo': 5566223311}, 'activo': True, 'balance': 233567.89, 'tarjetas': ({'tipo': 'débito', 'saldo': 12000}, {'tipo': 'crédito', 'saldo': 3500.0}, {'tipo': 'credito', 'nivel': 'oro', 'saldo': 50000})}\n",
            "{'id': 1, 'nombres': ['Juan', 'Antonio'], 'paterno': 'Garcia', 'materno': 'Pérez', 'teléfnonos': {'casa': 5566778899, 'celular': 5544332211, 'trabajo': 5566223311}, 'activo': True, 'balance': 233567.89, 'tarjetas': ({'tipo': 'débito', 'saldo': 12000}, {'tipo': 'crédito', 'saldo': 3500.0}, {'tipo': 'credito', 'nivel': 'oro', 'saldo': 50000}), 'dirección': {'calle': 'rancho seco', 'num': 23}}\n",
            "{'id': 1, 'nombres': ['Juan', 'Antonio'], 'paterno': 'Garcia', 'materno': 'Pérez', 'teléfnonos': {'casa': 5566778899, 'celular': 5544332211, 'trabajo': 5566223311}, 'activo': True, 'balance': 233567.89, 'dirección': {'calle': 'rancho seco', 'num': 23}}\n"
          ],
          "name": "stdout"
        }
      ]
    },
    {
      "cell_type": "code",
      "metadata": {
        "id": "nnTKJjgIcbym",
        "outputId": "d8be6497-2297-404b-f839-018f0791ee1f",
        "colab": {
          "base_uri": "https://localhost:8080/",
          "height": 459
        }
      },
      "source": [
        "llaves = cliente_banco.keys()\n",
        "print(llaves)\n",
        "print(type(llaves))\n",
        "for x in llaves:\n",
        "  print(x)\n",
        "  \n",
        "valores = cliente_banco.values()\n",
        "for v in valores:\n",
        "  print(v)\n",
        "\n",
        "pares = cliente_banco.items()\n",
        "for i in pares:\n",
        "  print(f\" {i[0]} = {i[1]} \")"
      ],
      "execution_count": 17,
      "outputs": [
        {
          "output_type": "stream",
          "text": [
            "dict_keys(['id', 'nombres', 'paterno', 'materno', 'teléfnonos', 'activo', 'balance', 'dirección'])\n",
            "<class 'dict_keys'>\n",
            "id\n",
            "nombres\n",
            "paterno\n",
            "materno\n",
            "teléfnonos\n",
            "activo\n",
            "balance\n",
            "dirección\n",
            "1\n",
            "['Juan', 'Antonio']\n",
            "Garcia\n",
            "Pérez\n",
            "{'casa': 5566778899, 'celular': 5544332211, 'trabajo': 5566223311}\n",
            "True\n",
            "233567.89\n",
            "{'calle': 'rancho seco', 'num': 23}\n",
            " id = 1 \n",
            " nombres = ['Juan', 'Antonio'] \n",
            " paterno = Garcia \n",
            " materno = Pérez \n",
            " teléfnonos = {'casa': 5566778899, 'celular': 5544332211, 'trabajo': 5566223311} \n",
            " activo = True \n",
            " balance = 233567.89 \n",
            " dirección = {'calle': 'rancho seco', 'num': 23} \n"
          ],
          "name": "stdout"
        }
      ]
    },
    {
      "cell_type": "code",
      "metadata": {
        "id": "aAfie2jlg8lp",
        "outputId": "5134aabf-c27a-4518-b624-99ae8a363a8c",
        "colab": {
          "base_uri": "https://localhost:8080/",
          "height": 34
        }
      },
      "source": [
        "fruta = {\"nombre\":\"manzana\",\"color\":\"rojo\",\"estado\":\"chihuahua\"}\n",
        "otras_caracteristicas = {\"vitamina\":\"D\"}\n",
        "fruta.update(otras_caracteristicas)\n",
        "print(fruta)"
      ],
      "execution_count": 18,
      "outputs": [
        {
          "output_type": "stream",
          "text": [
            "{'nombre': 'manzana', 'color': 'rojo', 'estado': 'chihuahua', 'vitamina': 'D'}\n"
          ],
          "name": "stdout"
        }
      ]
    },
    {
      "cell_type": "markdown",
      "metadata": {
        "id": "tPWnWdfUiPu8"
      },
      "source": [
        "# Funciones\n",
        "- recibe de 0 a n argumentos de entrada.\n",
        "- regresa solo un valor, aunque ese valor sea None.\n",
        "- tiene u nombre único en el contexto.\n",
        "- se pueden hacer solo dos cosas con funciones:\n",
        "  - definirla\n",
        "  - llamarla"
      ]
    },
    {
      "cell_type": "code",
      "metadata": {
        "id": "GKv8CQZBjDKr",
        "outputId": "d90ff13d-6d80-44c7-d9be-4242aa05f839",
        "colab": {
          "base_uri": "https://localhost:8080/",
          "height": 51
        }
      },
      "source": [
        "def suma(a,b):\n",
        "  return a+b\n",
        "\n",
        "def saludar():\n",
        "  print(\"Hola, ¿Cómo estás?\")\n",
        "  return None\n",
        "\n",
        "x = 10\n",
        "y = 20\n",
        "c = suma(x,y)\n",
        "\n",
        "print(c)\n",
        "saludar()"
      ],
      "execution_count": 20,
      "outputs": [
        {
          "output_type": "stream",
          "text": [
            "30\n",
            "Hola, ¿Cómo estás?\n"
          ],
          "name": "stdout"
        }
      ]
    },
    {
      "cell_type": "markdown",
      "metadata": {
        "id": "iCXmVzyektLx"
      },
      "source": [
        "# None y las funciones\n",
        "Aprovechar el uso de none en paso de parámetros."
      ]
    },
    {
      "cell_type": "code",
      "metadata": {
        "id": "uDzo26aTk5Bi",
        "outputId": "6fe2cc81-f07d-4637-a5e5-ddd750d098fe",
        "colab": {
          "base_uri": "https://localhost:8080/",
          "height": 34
        }
      },
      "source": [
        "def calcular( base , veces ):\n",
        "  if base != None:\n",
        "    resultado = base * veces\n",
        "    return resultado\n",
        "  else:\n",
        "    resultado = \"desconocido\"\n",
        "\n",
        "print(calcular(4, 3))"
      ],
      "execution_count": 21,
      "outputs": [
        {
          "output_type": "stream",
          "text": [
            "12\n"
          ],
          "name": "stdout"
        }
      ]
    }
  ]
}