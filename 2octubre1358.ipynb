{
  "nbformat": 4,
  "nbformat_minor": 0,
  "metadata": {
    "colab": {
      "name": "2octubre1358 (1).ipynb",
      "provenance": [],
      "collapsed_sections": [],
      "include_colab_link": true
    },
    "kernelspec": {
      "name": "python3",
      "display_name": "Python 3"
    }
  },
  "cells": [
    {
      "cell_type": "markdown",
      "metadata": {
        "id": "view-in-github",
        "colab_type": "text"
      },
      "source": [
        "<a href=\"https://colab.research.google.com/github/Danyaell/edd_1358_2021/blob/master/2octubre1358.ipynb\" target=\"_parent\"><img src=\"https://colab.research.google.com/assets/colab-badge.svg\" alt=\"Open In Colab\"/></a>"
      ]
    },
    {
      "cell_type": "markdown",
      "metadata": {
        "id": "5PoJ1fxc3M5R"
      },
      "source": [
        "# Tipos de dato\n",
        "- string           str\n",
        "- enteros          int\n",
        "- número flotante  float\n",
        "- lógico           bool\n",
        "- número complejo  complex\n",
        "- listas           list\n",
        "- Tuplas           tuple\n",
        "- diccionarios     dict\n",
        "- conjuntos        set"
      ]
    },
    {
      "cell_type": "code",
      "metadata": {
        "id": "rwSAVT4x34kD",
        "outputId": "81096b85-1875-465c-c652-d763b9b1103d",
        "colab": {
          "base_uri": "https://localhost:8080/",
          "height": 170
        }
      },
      "source": [
        "#string puede emplear \" \", '' o \"\"\" \"\"\"\n",
        "universidad = \"universidad        nacional  autonoma de    mexico     \"\n",
        "print( universidad )\n",
        "# cuando el string es una sola palabra se usa '' -> buena práctica\n",
        "carrera = 'ico'\n",
        "area = \"software\"\n",
        "division = 'division de las ciencias fisico matematicas'\n",
        "print( carrera, area )\n",
        "print( division )\n",
        "# \"\"\" cuando el string incluye varios renglones\n",
        "\n",
        "frase = \"\"\"\n",
        "Si\n",
        "funciona, no\n",
        "lo\n",
        "arregles!!!\n",
        "\"\"\"\n",
        "print(frase)"
      ],
      "execution_count": 2,
      "outputs": [
        {
          "output_type": "stream",
          "text": [
            "universidad        nacional  autonoma de    mexico     \n",
            "ico software\n",
            "division de las ciencias fisico matematicas\n",
            "\n",
            "Si\n",
            "funciona, no\n",
            "lo\n",
            "arregles!!!\n",
            "\n"
          ],
          "name": "stdout"
        }
      ]
    },
    {
      "cell_type": "code",
      "metadata": {
        "id": "PrMU1wfU5fim",
        "outputId": "cfc6296a-86da-4366-9081-72e646d08852",
        "colab": {
          "base_uri": "https://localhost:8080/",
          "height": 221
        }
      },
      "source": [
        "print( universidad.upper() )\n",
        "print( universidad )\n",
        "print( universidad.title() )\n",
        "# eliminar espacios a la der e izq y \\n\n",
        "universidad = universidad.strip()\n",
        "print( universidad )\n",
        "lista = universidad.split(\" \")\n",
        "print ( lista )\n",
        "nueva = \" \"\n",
        "for l in lista:\n",
        "  if len(l) > 0:\n",
        "    nueva += l + \" \"\n",
        "print(nueva)\n",
        "\n",
        "numeros = \"1,2,34,56,100\"\n",
        "separados =numeros.split(\",\")\n",
        "print(separados)\n",
        "numeros_int = []\n",
        "for num in separados:\n",
        "  numeros_int.append( int(num) )\n",
        "\n",
        "print(numeros_int)\n",
        "print(nueva)\n",
        "print(nueva.index(\" \"))\n",
        "print(nueva.replace(' ', '_'))\n",
        "print(nueva)\n"
      ],
      "execution_count": 3,
      "outputs": [
        {
          "output_type": "stream",
          "text": [
            "UNIVERSIDAD        NACIONAL  AUTONOMA DE    MEXICO     \n",
            "universidad        nacional  autonoma de    mexico     \n",
            "Universidad        Nacional  Autonoma De    Mexico     \n",
            "universidad        nacional  autonoma de    mexico\n",
            "['universidad', '', '', '', '', '', '', '', 'nacional', '', 'autonoma', 'de', '', '', '', 'mexico']\n",
            " universidad nacional autonoma de mexico \n",
            "['1', '2', '34', '56', '100']\n",
            "[1, 2, 34, 56, 100]\n",
            " universidad nacional autonoma de mexico \n",
            "0\n",
            "_universidad_nacional_autonoma_de_mexico_\n",
            " universidad nacional autonoma de mexico \n"
          ],
          "name": "stdout"
        }
      ]
    },
    {
      "cell_type": "markdown",
      "metadata": {
        "id": "t-TFikH3_VJq"
      },
      "source": [
        "# slicing\n",
        "sintaxis\n",
        "[ inicio : stop : incremento ]"
      ]
    },
    {
      "cell_type": "code",
      "metadata": {
        "id": "uyFGM-a8_wP5",
        "outputId": "0131a449-905a-45d7-c3bb-8224eac5b5f9",
        "colab": {
          "base_uri": "https://localhost:8080/",
          "height": 153
        }
      },
      "source": [
        "# selector de elementos dentro de un str\n",
        "print(nueva[1])\n",
        "nueva = nueva.strip()\n",
        "print(nueva[len(nueva) - 1])\n",
        "print(nueva[-1]) #Indexado negativo\n",
        "\n",
        "# slicing\n",
        "print(nueva)\n",
        "print(nueva[12 : 20 : 1 ])\n",
        "print(nueva[ -6 :  : 1])\n",
        "#mexico al revéz\n",
        "print(nueva[-1 : -7 : -1])\n",
        "\n",
        "#valores por defecto [ 0 : long de la lista : 1 ]\n",
        "\n",
        "print (nueva[::])"
      ],
      "execution_count": 4,
      "outputs": [
        {
          "output_type": "stream",
          "text": [
            "u\n",
            "o\n",
            "o\n",
            "universidad nacional autonoma de mexico\n",
            "nacional\n",
            "mexico\n",
            "ocixem\n",
            "universidad nacional autonoma de mexico\n"
          ],
          "name": "stdout"
        }
      ]
    },
    {
      "cell_type": "markdown",
      "metadata": {
        "id": "Jq64Miw2D9DR"
      },
      "source": [
        "# bool\n",
        "Acepta sólo dos valores\n",
        "True bool(1)\n",
        "\n",
        "False bool(0)"
      ]
    },
    {
      "cell_type": "code",
      "metadata": {
        "id": "LhAGoP_AEKTL",
        "outputId": "e31891c5-446c-41b9-e839-1cb3327371e5",
        "colab": {
          "base_uri": "https://localhost:8080/",
          "height": 85
        }
      },
      "source": [
        "print(bool(1))\n",
        "print(bool(0))\n",
        "flag = 12\n",
        "print(bool(flag))\n",
        "print(False)"
      ],
      "execution_count": 5,
      "outputs": [
        {
          "output_type": "stream",
          "text": [
            "True\n",
            "False\n",
            "True\n",
            "False\n"
          ],
          "name": "stdout"
        }
      ]
    },
    {
      "cell_type": "markdown",
      "metadata": {
        "id": "0wAmS-0XFLI5"
      },
      "source": [
        "# comentarios\n",
        "\n",
        "para un comentario de una línea se usa #\n",
        "para un comentario de múltiple línea, se usa /*   */ en java, y en c se utiliza \"\"\""
      ]
    },
    {
      "cell_type": "code",
      "metadata": {
        "id": "h8C-U4nnFYSS"
      },
      "source": [
        "# este es un comentario de línea simple\n",
        "\"\"\"\n",
        "Este es \n",
        "  un comentario\n",
        "    de múltiples\n",
        "    líneas\n",
        "\"\"\""
      ],
      "execution_count": null,
      "outputs": []
    },
    {
      "cell_type": "markdown",
      "metadata": {
        "id": "bKF9lLPaF-Js"
      },
      "source": [
        "# funcion Print\n",
        "hay 4 formas de usar print\n",
        "1. con comas(,)\n",
        "1. con signo +\n",
        "1. con la función format() de la clase string\n",
        "1. con el operador f\""
      ]
    },
    {
      "cell_type": "code",
      "metadata": {
        "id": "8PXDpo2AGNWY",
        "outputId": "c92bf073-0cd2-4bd9-a8f7-d08460198332",
        "colab": {
          "base_uri": "https://localhost:8080/",
          "height": 68
        }
      },
      "source": [
        "# con comas\n",
        "cantidad = 2\n",
        "precio_chetos = 8\n",
        "precio_fanta = 12\n",
        "\n",
        "print(cantidad, precio_chetos,precio_fanta)\n",
        "\n",
        "# con signo solo opera con str\n",
        "print(\"hola\"+\"mundo\")\n",
        "print( str(cantidad) + str(precio_chetos) + str(precio_fanta))"
      ],
      "execution_count": 1,
      "outputs": [
        {
          "output_type": "stream",
          "text": [
            "2 8 12\n",
            "holamundo\n",
            "2812\n"
          ],
          "name": "stdout"
        }
      ]
    }
  ]
}