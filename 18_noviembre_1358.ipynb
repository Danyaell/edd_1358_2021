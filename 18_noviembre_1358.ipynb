{
  "nbformat": 4,
  "nbformat_minor": 0,
  "metadata": {
    "colab": {
      "name": "18_noviembre_1358",
      "provenance": [],
      "collapsed_sections": [],
      "authorship_tag": "ABX9TyP9bnkyp1eN6obEYPPJj4B3",
      "include_colab_link": true
    },
    "kernelspec": {
      "name": "python3",
      "display_name": "Python 3"
    }
  },
  "cells": [
    {
      "cell_type": "markdown",
      "metadata": {
        "id": "view-in-github",
        "colab_type": "text"
      },
      "source": [
        "<a href=\"https://colab.research.google.com/github/Danyaell/edd_1358_2021/blob/master/18_noviembre_1358.ipynb\" target=\"_parent\"><img src=\"https://colab.research.google.com/assets/colab-badge.svg\" alt=\"Open In Colab\"/></a>"
      ]
    },
    {
      "cell_type": "markdown",
      "metadata": {
        "id": "fjO4Z1xsPFyg"
      },
      "source": [
        "2 '''class Nodo:\n",
        "  def __init__ (self, dato):\n",
        "    self.__dato = dato\n",
        "    self.__siguiente = None\n",
        " \n",
        "  def get_dato(self):\n",
        "    return self.__dato\n",
        " \n",
        "  def set_dato(self, d):\n",
        "    self.__dato = d\n",
        " \n",
        "  def get_siguiente (self):\n",
        "    return self.__siguiente\n",
        " \n",
        "  def set_siguiente(self, d):\n",
        "    self.__siguiente = d\n",
        " \n",
        "  def to_String(self):\n",
        "    return \" | \" + str(self.__dato) + \" | \" + str(self.__siguiente) + \" | -->\"\n",
        " \n",
        "  def show( self ):\n",
        "        curr_node = self # Head\n",
        "        print(\" Inicio de la estructura ligada:\")\n",
        "        print(\"|\" + str(curr_node.get_dato()) + \"| -->\" , end =\"\" )\n",
        "        while( curr_node.get_siguiente() != None ):\n",
        "            curr_node = curr_node.get_siguiente()\n",
        "            print(\"|\" + str(curr_node.get_dato() ) + \"| -->\" , end =\"\" )\n",
        "        print(\"\\nFin\")\n",
        "# Ejemplo 1\n",
        "a = Nodo( 10 )\n",
        "a.show()\n",
        " \n",
        " \n",
        "# Ejemplo 2\n",
        "a.set_siguiente(Nodo(20))\n",
        "a.show()\n",
        " \n",
        "#Ejemplo 3 \n",
        "a.get_siguiente().set_siguiente(Nodo(30))\n",
        "a.show()\n",
        " \n",
        "#Ejemplo 4\n",
        "a.get_siguiente().get_siguiente().set_siguiente(Nodo(40))\n",
        "a.show()\n",
        "\n",
        "#Ejemplo 5\n",
        "a.get_siguiente().get_siguiente().get_siguiente().set_siguiente(Nodo(50))\n",
        "a.show()\n",
        "#ej\n",
        "a.set_dato(12)\n",
        "#ejemplo 5\n",
        "a.get_siguiente().get_siguiente().get_siguiente().set_dato(45)\n",
        "a.show()\n",
        "#Ejemplo 6 \n",
        "a.get_siguiente().get_siguiente().get_siguiente().get_siguiente().set_siguiente(Nodo(60))\n",
        "a.get_siguiente().set_dato(25)\n",
        "a.show()\n",
        "'''\n",
        "#Eliminar datos"
      ]
    },
    {
      "cell_type": "code",
      "metadata": {
        "colab": {
          "base_uri": "https://localhost:8080/"
        },
        "id": "QiRTtemjPWFj",
        "outputId": "301ad9eb-c300-4f32-eb6f-4adf3bba5815"
      },
      "source": [
        " class Nodo:\n",
        "    def __init__( self , dato ):\n",
        "        self.dato = dato\n",
        "        self.siguiente = None\n",
        " \n",
        " #Ejemplo 1\n",
        "a = Nodo(10)\n",
        "print(a.dato)\n",
        "print(a.siguiente)    \n",
        " \n",
        "#Ejemplo 2\n",
        "a.siguiente = Nodo (20)\n",
        " \n",
        "#ejemplo 3\n",
        "a.siguiente.siguiente=Nodo(30)\n",
        " \n",
        "#Ejemplo 4\n",
        "a.siguiente.siguiente.siguiente = Nodo(40)\n",
        " \n",
        "#Ejemplo 5\n",
        "a.siguiente.siguiente.siguiente.siguiente = Nodo(50)\n",
        " \n",
        " \n",
        " \n",
        "#Recorrido transversal\n",
        "curr_node = a\n",
        "print(curr_node.dato , \"-->\" , end=\"\")\n",
        "while( curr_node.siguiente != None ):\n",
        "    curr_node = curr_node.siguiente\n",
        "    print(curr_node.dato, \"-->\" , end=\"\")\n",
        "print(\"\")\n",
        " \n",
        "#ejemplo 6\n",
        "a.siguiente.siguiente.siguiente.dato = 45\n",
        " \n",
        "#ejemplo 6\n",
        "a.siguiente.siguiente.dato = 35\n",
        " \n",
        "#ejemplo 7\n",
        "a.siguiente.siguiente = a.siguiente.siguiente.siguiente\n",
        " \n",
        "#ejemplo 8\n",
        "a.siguiente = a.siguiente.siguiente.siguiente.siguiente\n",
        " \n",
        "#ej 9\n",
        " \n",
        " \n",
        "#Recorrido transversal\n",
        "curr_node = a\n",
        "print(curr_node.dato , \"-->\" , end=\"\")\n",
        "while( curr_node.siguiente != None ):\n",
        "    curr_node = curr_node.siguiente\n",
        "    print(curr_node.dato, \"-->\" , end=\"\")\n",
        "print(\"\")"
      ],
      "execution_count": null,
      "outputs": [
        {
          "output_type": "stream",
          "text": [
            "10\n",
            "None\n",
            "10 -->20 -->30 -->40 -->50 -->\n",
            "10 -->\n"
          ],
          "name": "stdout"
        }
      ]
    },
    {
      "cell_type": "code",
      "metadata": {
        "id": "L20ODJQPYfd5"
      },
      "source": [
        " # Código del 18 de noviembre\n",
        " \n",
        "class Nodo:\n",
        "    def __init__( self , dato , siguiente=None ):\n",
        "        self.dato = dato\n",
        "        self.siguiente = siguiente\n",
        " \n",
        "head = Nodo( 10 , Nodo ( 20 , Nodo( 30 , Nodo( 40 , Nodo( 50 ) ) ) ) )\n",
        " \n",
        "curr_node = head\n",
        "print(curr_node.dato , \"-->\" , end=\"\")\n",
        "while( curr_node.siguiente != None ):\n",
        "    curr_node = curr_node.siguiente\n",
        "    print(curr_node.dato, \"-->\" , end=\"\")\n",
        "print(\"\")\n",
        " \n",
        "#Recorrido transversal\n",
        "curr_node = a\n",
        "print(curr_node.dato , \"-->\" , end=\"\")\n",
        "while( curr_node.siguiente != None ):\n",
        "    curr_node = curr_node.siguiente\n",
        "    print(curr_node.dato, \"-->\" , end=\"\")\n",
        "print(\"\")"
      ],
      "execution_count": null,
      "outputs": []
    }
  ]
}