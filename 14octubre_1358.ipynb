{
  "nbformat": 4,
  "nbformat_minor": 0,
  "metadata": {
    "colab": {
      "name": "14octubre_1358.ipynb",
      "provenance": [],
      "collapsed_sections": [],
      "authorship_tag": "ABX9TyMC91LDTfefuw+xL8O/+zQe",
      "include_colab_link": true
    },
    "kernelspec": {
      "name": "python3",
      "display_name": "Python 3"
    }
  },
  "cells": [
    {
      "cell_type": "markdown",
      "metadata": {
        "id": "view-in-github",
        "colab_type": "text"
      },
      "source": [
        "<a href=\"https://colab.research.google.com/github/Danyaell/edd_1358_2021/blob/master/14octubre_1358.ipynb\" target=\"_parent\"><img src=\"https://colab.research.google.com/assets/colab-badge.svg\" alt=\"Open In Colab\"/></a>"
      ]
    },
    {
      "cell_type": "code",
      "metadata": {
        "id": "i5GAP6Ok6aog",
        "outputId": "f22c043c-d74e-4231-cd92-cecc89a932fd",
        "colab": {
          "base_uri": "https://localhost:8080/",
          "height": 85
        }
      },
      "source": [
        "#FUNCIONES\n",
        "def calcular(a,b,c):\n",
        "  x=a+(b/c)\n",
        "  return x\n",
        "\n",
        "print(calcular(5,9,3))\n",
        "#por defecto es a,b,c, pero puede alterarse el orden\n",
        "print(calcular(a=5,c=3,b=9))\n",
        "\n",
        "def calcular_v2(a=10 ,b=20, c=5):\n",
        "  x= a+(b/c)\n",
        "  return x\n",
        "\n",
        "#en la funcion se pueden declarar valores por defecto\n",
        "print(calcular_v2())\n",
        "#o pueden ser modificados uno o mas, en este caso a y b\n",
        "#de forma implicita o explicita\n",
        "print(calcular_v2(40,b=8))"
      ],
      "execution_count": 1,
      "outputs": [
        {
          "output_type": "stream",
          "text": [
            "8.0\n",
            "8.0\n",
            "14.0\n",
            "41.6\n"
          ],
          "name": "stdout"
        }
      ]
    },
    {
      "cell_type": "markdown",
      "metadata": {
        "id": "M5U-8oXB6grU"
      },
      "source": [
        "#argumentos a funciones por tupla\n",
        "Se envian los argumentos en un conjuntos de elementos dentro de una tupla"
      ]
    },
    {
      "cell_type": "code",
      "metadata": {
        "id": "8ej0NvyI6lBx",
        "outputId": "7ba3ae2e-a0d1-4269-ec13-4ab3bf57c63b",
        "colab": {
          "base_uri": "https://localhost:8080/",
          "height": 51
        }
      },
      "source": [
        "def calculo (*elem):\n",
        "  print(elem)\n",
        "  x= elem[0]+ (elem[1]/elem[2])\n",
        "  return x\n",
        "\n",
        "print(calculo(5,9,3))"
      ],
      "execution_count": 2,
      "outputs": [
        {
          "output_type": "stream",
          "text": [
            "(5, 9, 3)\n",
            "8.0\n"
          ],
          "name": "stdout"
        }
      ]
    },
    {
      "cell_type": "code",
      "metadata": {
        "id": "w2u5c5DL6nvX",
        "outputId": "6e95c5e3-edfe-4591-b774-2ab9ad9fd136",
        "colab": {
          "base_uri": "https://localhost:8080/",
          "height": 51
        }
      },
      "source": [
        "def calculo2(**elem):\n",
        "  print(elem)\n",
        "  x= elem['a']+(elem['b']/elem['c'])\n",
        "  return x\n",
        "\n",
        "print(calculo2(a=5,b=9,c=3))"
      ],
      "execution_count": 3,
      "outputs": [
        {
          "output_type": "stream",
          "text": [
            "{'a': 5, 'b': 9, 'c': 3}\n",
            "8.0\n"
          ],
          "name": "stdout"
        }
      ]
    },
    {
      "cell_type": "markdown",
      "metadata": {
        "id": "8DIOmlQc6qX-"
      },
      "source": [
        "#ARCHIVOS\n",
        "\n",
        "\n",
        "1.   abrirlos\n",
        "un strig con la ruta del archivo\n",
        "dos caracteres:1 modo de apertura(r,w)y dos el formato(texto, binario)\n",
        "2.   Modificarlos"
      ]
    },
    {
      "cell_type": "code",
      "metadata": {
        "id": "CK0g-wtA6sv8"
      },
      "source": [
        "archivo=open('ejemplo.txt',\"wt\")\n",
        "archivo.write('Hola mundo de archivos')\n",
        "archivo.close"
      ],
      "execution_count": null,
      "outputs": []
    }
  ]
}