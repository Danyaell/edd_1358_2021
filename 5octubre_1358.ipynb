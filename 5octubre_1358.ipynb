{
  "nbformat": 4,
  "nbformat_minor": 0,
  "metadata": {
    "colab": {
      "name": "5octubre_1358.ipynb",
      "provenance": [],
      "collapsed_sections": [],
      "authorship_tag": "ABX9TyOd0/u1WAU58KnjQ+H187I9",
      "include_colab_link": true
    },
    "kernelspec": {
      "name": "python3",
      "display_name": "Python 3"
    }
  },
  "cells": [
    {
      "cell_type": "markdown",
      "metadata": {
        "id": "view-in-github",
        "colab_type": "text"
      },
      "source": [
        "<a href=\"https://colab.research.google.com/github/Danyaell/edd_1358_2021/blob/master/5octubre_1358.ipynb\" target=\"_parent\"><img src=\"https://colab.research.google.com/assets/colab-badge.svg\" alt=\"Open In Colab\"/></a>"
      ]
    },
    {
      "cell_type": "code",
      "metadata": {
        "id": "geCzl5B7TL9T",
        "outputId": "ae83fe2f-4566-4dca-d44d-80e2e9a3259d",
        "colab": {
          "base_uri": "https://localhost:8080/",
          "height": 68
        }
      },
      "source": [
        "precio = 12.50\n",
        "cantidad = 2\n",
        "existencia = True\n",
        "\n",
        "# precio de los chetos es $12.50 y quiero 2 , hay?: True\n",
        "\n",
        "print(\"precio de los chetos es $\", precio, \"y quiero\", cantidad, \", hay?: \", existencia)\n",
        "\n",
        "#format() de la clase String\n",
        "\n",
        "print(\"precio de los chetos es {} y quiero {} , hay?: {}\".format(precio, cantidad, existencia))\n",
        "\n",
        "# operador f\"\"\n",
        "print( f\"precio de los chetos es {precio} y quiero {cantidad} , hay?: {existencia}\")\n"
      ],
      "execution_count": 4,
      "outputs": [
        {
          "output_type": "stream",
          "text": [
            "precio de los chetos es $ 12.5 y quiero 2 , hay?:  True\n",
            "precio de los chetos es 12.5 y quiero 2 , hay?: True\n",
            "precio de los chetos es 12.5 y quiero 2 , hay?: True\n"
          ],
          "name": "stdout"
        }
      ]
    },
    {
      "cell_type": "markdown",
      "metadata": {
        "id": "tJ7UZY_cYMT4"
      },
      "source": [
        "# Listas\n",
        "Declaración [ ]\n",
        "\n",
        "Selector [ ]\n",
        "\n",
        "No mutable.\n",
        "\n",
        "# Tuplas\n",
        "Declaración ( )\n",
        "\n",
        "Selector [ ]\n",
        "\n",
        "No mutable.\n",
        "\n",
        "# Diccionarios\n",
        "Conjuntos de datos en pares de llave:valor\n",
        "\n",
        "Son mutables\n",
        "\n",
        "Equivalentes a JSON.\n",
        "\n",
        "# Conjuntos\n",
        "Grupo de elementos con la teoría de conjuntos.\n",
        "\n",
        "Operaciones de conjuntos."
      ]
    },
    {
      "cell_type": "code",
      "metadata": {
        "id": "IucFFZFYZZFY",
        "outputId": "d03d1458-8300-47df-a010-c3dd842b00d9",
        "colab": {
          "base_uri": "https://localhost:8080/",
          "height": 391
        }
      },
      "source": [
        "# Listas\n",
        "materias = [\"CyP\",\"DAA\",\"EDD\",\"IS\",\"POO\"]\n",
        "print(materias)\n",
        "\n",
        "print(materias[2])\n",
        "print(materias[-1])\n",
        "print(materias[4])\n",
        "print(materias[::-1])\n",
        "\n",
        "# Crear una lista a partir de un String\n",
        "fecha = \"05/octubre/2020\"\n",
        "lista_fecha = fecha.split(\"/\")\n",
        "print(lista_fecha)\n",
        "\n",
        "# Crear un String a partir de una lista\n",
        "lista_hora = [\"15\",\"22\",\"45\"]\n",
        "hora = \":\".join(lista_hora)\n",
        "print(hora)\n",
        "\n",
        "print(\"---------------------------\")\n",
        "print(materias)\n",
        "print(lista_fecha)\n",
        "print(lista_hora)\n",
        "\n",
        "materias[0] = \"Computadoras y Programación\"\n",
        "print(materias)\n",
        "\n",
        "# Agregar\n",
        "materias.append(\"Calidad\")\n",
        "print(materias)\n",
        "materias.insert(2,\"Emprendimiento\")\n",
        "print(materias)\n",
        "materia = materias.pop()\n",
        "print(materia)\n",
        "print(materias)\n",
        "materia = materias.pop(1)\n",
        "print(materia)\n",
        "print(materias)\n",
        "\n",
        "# Vaciar una lista\n",
        "materias.clear()\n",
        "print(materias)\n",
        "\n",
        "# Slicing [::]\n",
        "print(\"Slicing\")\n",
        "numeros = [0,1,2,3,4,5,6,7,8,9,10]\n",
        "print(numeros[4:9:])\n",
        "\n",
        "# Sustituir un segmento con Slicing [0,1,2,3, ,9,10]\n",
        "numeros[4:9:] = [-2]\n",
        "print(numeros)\n"
      ],
      "execution_count": 23,
      "outputs": [
        {
          "output_type": "stream",
          "text": [
            "['CyP', 'DAA', 'EDD', 'IS', 'POO']\n",
            "EDD\n",
            "POO\n",
            "POO\n",
            "['POO', 'IS', 'EDD', 'DAA', 'CyP']\n",
            "['05', 'octubre', '2020']\n",
            "15:22:45\n",
            "---------------------------\n",
            "['CyP', 'DAA', 'EDD', 'IS', 'POO']\n",
            "['05', 'octubre', '2020']\n",
            "['15', '22', '45']\n",
            "['Computadoras y Programación', 'DAA', 'EDD', 'IS', 'POO']\n",
            "['Computadoras y Programación', 'DAA', 'EDD', 'IS', 'POO', 'Calidad']\n",
            "['Computadoras y Programación', 'DAA', 'Emprendimiento', 'EDD', 'IS', 'POO', 'Calidad']\n",
            "Calidad\n",
            "['Computadoras y Programación', 'DAA', 'Emprendimiento', 'EDD', 'IS', 'POO']\n",
            "DAA\n",
            "['Computadoras y Programación', 'Emprendimiento', 'EDD', 'IS', 'POO']\n",
            "[]\n",
            "Slicing\n",
            "[4, 5, 6, 7, 8]\n",
            "[0, 1, 2, 3, -2, 9]\n"
          ],
          "name": "stdout"
        }
      ]
    },
    {
      "cell_type": "code",
      "metadata": {
        "id": "ipwunjYLdaDa",
        "outputId": "11e1878f-346e-449f-f7f4-e8fde576f3c3",
        "colab": {
          "base_uri": "https://localhost:8080/",
          "height": 71
        }
      },
      "source": [
        "autos = [\"Mazda\",\"Honda\",\"Akura\",\"Ford\",\"VW\"]\n",
        "telefonos = [\"iPhone\",\"Huawei Mate 30\", \"Xiaomi S10\", \"Alcatel t1000\"]\n",
        "sistemas_operativos = [\"Windows\",\"Linux\",\"Android\",\"iOS\",\"MacOS\"]\n",
        "\n",
        "lista_2d = [autos,telefonos,sistemas_operativos]\n",
        "print(lista_2d)\n",
        "print(lista_2d[1][1])"
      ],
      "execution_count": 25,
      "outputs": [
        {
          "output_type": "stream",
          "text": [
            "[['Mazda', 'Honda', 'Akura', 'Ford', 'VW'], ['iPhone', 'Huawei Mate 30', 'Xiaomi S10', 'Alcatel t1000'], ['Windows', 'Linux', 'Android', 'iOS', 'MacOS']]\n",
            "Huawei Mate 30\n"
          ],
          "name": "stdout"
        }
      ]
    }
  ]
}