{
  "nbformat": 4,
  "nbformat_minor": 0,
  "metadata": {
    "colab": {
      "name": "Tarea_8.ipynb",
      "provenance": [],
      "collapsed_sections": [],
      "authorship_tag": "ABX9TyMbAllJQqZjdhyTYYb0T60G",
      "include_colab_link": true
    },
    "kernelspec": {
      "name": "python3",
      "display_name": "Python 3"
    }
  },
  "cells": [
    {
      "cell_type": "markdown",
      "metadata": {
        "id": "view-in-github",
        "colab_type": "text"
      },
      "source": [
        "<a href=\"https://colab.research.google.com/github/Danyaell/edd_1358_2021/blob/master/Tarea_8.ipynb\" target=\"_parent\"><img src=\"https://colab.research.google.com/assets/colab-badge.svg\" alt=\"Open In Colab\"/></a>"
      ]
    },
    {
      "cell_type": "code",
      "metadata": {
        "id": "S3e7BbVRShvi"
      },
      "source": [
        "class Queue:\r\n",
        "  def __init__(self):\r\n",
        "    self.__data= list()\r\n",
        "\r\n",
        "  def is_empty(self):\r\n",
        "    return len(self.__data)== 0\r\n",
        "\r\n",
        "  def lenght(self):\r\n",
        "    return len(self.__data)\r\n",
        "\r\n",
        "  def enqueue(self, item):\r\n",
        "    self.__data.append(item)\r\n",
        "\r\n",
        "  def dequeue(self):\r\n",
        "    if not self.is_empty():\r\n",
        "      return self.__data.pop(0)\r\n",
        "    else:\r\n",
        "      return None\r\n",
        "\r\n",
        "  def to_string(self):\r\n",
        "    cadena = \"\"\r\n",
        "    for elem in self.__data:\r\n",
        "      cadena = cadena + \" | \" + elem  \r\n",
        "    cadena = cadena + \" | \"\r\n",
        "    return cadena"
      ],
      "execution_count": 1,
      "outputs": []
    },
    {
      "cell_type": "code",
      "metadata": {
        "id": "iyDM3SvVSlI3"
      },
      "source": [
        "class BoundedPriorityQueue:\r\n",
        "  def __init__( self , niveles ):\r\n",
        "    self.__data = [ Queue() for x in range(niveles) ]\r\n",
        "    self.__size = 0\r\n",
        "\r\n",
        "  def is_empty( self ):\r\n",
        "    return self.__size == 0\r\n",
        "    \r\n",
        "  def length( self ):\r\n",
        "    return self.__size\r\n",
        "    \r\n",
        "  def enqueue( self , prioridad , elem ):\r\n",
        "    if prioridad < len(self.__data) and prioridad >= 0:\r\n",
        "        self.__data[prioridad].enqueue(elem)\r\n",
        "        self.__size +=1\r\n",
        "    else:\r\n",
        "        print(f\"El elemento {elem} esta fuera de rango.\")\r\n",
        "    \r\n",
        "  def dequeue( self ):\r\n",
        "    if not self.is_empty():\r\n",
        "      nivel = 0\r\n",
        "      while self.__data[nivel].is_empty():\r\n",
        "        nivel += 1\r\n",
        "    elif self.is_empty(): \r\n",
        "      print(\"Fin de la cola\")\r\n",
        "    return self.__data[nivel].dequeue()\r\n",
        "\r\n",
        "  def dequeueAutomatico(self):\r\n",
        "    while not self.is_empty():\r\n",
        "      print(\"\")\r\n",
        "      self.dequeue()\r\n",
        "      self.to_string()\r\n",
        "    \r\n",
        "  def to_string( self ):\r\n",
        "    for nivel in range( len(self.__data) ):\r\n",
        "      print(f\" Nivel { nivel } --> { self.__data[nivel].to_string() } \")"
      ],
      "execution_count": 2,
      "outputs": []
    },
    {
      "cell_type": "code",
      "metadata": {
        "colab": {
          "base_uri": "https://localhost:8080/",
          "height": 1000
        },
        "id": "XajDCI7gSni0",
        "outputId": "9b4c7b7c-3620-4cca-de03-016139ec21d7"
      },
      "source": [
        "barco = BoundedPriorityQueue(6)\r\n",
        "barco.enqueue(4,'Maestre')\r\n",
        "barco.enqueue(2,'Niños')\r\n",
        "barco.enqueue(4,'Mecánico')\r\n",
        "barco.enqueue(3,'Hombres')\r\n",
        "barco.enqueue(4,'Vigia')\r\n",
        "barco.enqueue(5,'Capitán')\r\n",
        "barco.enqueue(4,'Timonel')\r\n",
        "barco.enqueue(3,'Mujeres')\r\n",
        "barco.enqueue(2,'3ra edad')\r\n",
        "barco.enqueue(1,'Niñas')\r\n",
        "barco.to_string()\r\n",
        "barco.dequeueAutomatico()"
      ],
      "execution_count": 3,
      "outputs": [
        {
          "output_type": "stream",
          "text": [
            " Nivel 0 -->  |  \n",
            " Nivel 1 -->  | Niñas |  \n",
            " Nivel 2 -->  | Niños | 3ra edad |  \n",
            " Nivel 3 -->  | Hombres | Mujeres |  \n",
            " Nivel 4 -->  | Maestre | Mecánico | Vigia | Timonel |  \n",
            " Nivel 5 -->  | Capitán |  \n",
            "\n",
            " Nivel 0 -->  |  \n",
            " Nivel 1 -->  |  \n",
            " Nivel 2 -->  | Niños | 3ra edad |  \n",
            " Nivel 3 -->  | Hombres | Mujeres |  \n",
            " Nivel 4 -->  | Maestre | Mecánico | Vigia | Timonel |  \n",
            " Nivel 5 -->  | Capitán |  \n",
            "\n",
            " Nivel 0 -->  |  \n",
            " Nivel 1 -->  |  \n",
            " Nivel 2 -->  | 3ra edad |  \n",
            " Nivel 3 -->  | Hombres | Mujeres |  \n",
            " Nivel 4 -->  | Maestre | Mecánico | Vigia | Timonel |  \n",
            " Nivel 5 -->  | Capitán |  \n",
            "\n",
            " Nivel 0 -->  |  \n",
            " Nivel 1 -->  |  \n",
            " Nivel 2 -->  |  \n",
            " Nivel 3 -->  | Hombres | Mujeres |  \n",
            " Nivel 4 -->  | Maestre | Mecánico | Vigia | Timonel |  \n",
            " Nivel 5 -->  | Capitán |  \n",
            "\n",
            " Nivel 0 -->  |  \n",
            " Nivel 1 -->  |  \n",
            " Nivel 2 -->  |  \n",
            " Nivel 3 -->  | Mujeres |  \n",
            " Nivel 4 -->  | Maestre | Mecánico | Vigia | Timonel |  \n",
            " Nivel 5 -->  | Capitán |  \n",
            "\n",
            " Nivel 0 -->  |  \n",
            " Nivel 1 -->  |  \n",
            " Nivel 2 -->  |  \n",
            " Nivel 3 -->  |  \n",
            " Nivel 4 -->  | Maestre | Mecánico | Vigia | Timonel |  \n",
            " Nivel 5 -->  | Capitán |  \n",
            "\n",
            " Nivel 0 -->  |  \n",
            " Nivel 1 -->  |  \n",
            " Nivel 2 -->  |  \n",
            " Nivel 3 -->  |  \n",
            " Nivel 4 -->  | Mecánico | Vigia | Timonel |  \n",
            " Nivel 5 -->  | Capitán |  \n",
            "\n",
            " Nivel 0 -->  |  \n",
            " Nivel 1 -->  |  \n",
            " Nivel 2 -->  |  \n",
            " Nivel 3 -->  |  \n",
            " Nivel 4 -->  | Vigia | Timonel |  \n",
            " Nivel 5 -->  | Capitán |  \n",
            "\n",
            " Nivel 0 -->  |  \n",
            " Nivel 1 -->  |  \n",
            " Nivel 2 -->  |  \n",
            " Nivel 3 -->  |  \n",
            " Nivel 4 -->  | Timonel |  \n",
            " Nivel 5 -->  | Capitán |  \n",
            "\n",
            " Nivel 0 -->  |  \n",
            " Nivel 1 -->  |  \n",
            " Nivel 2 -->  |  \n",
            " Nivel 3 -->  |  \n",
            " Nivel 4 -->  |  \n",
            " Nivel 5 -->  | Capitán |  \n",
            "\n",
            " Nivel 0 -->  |  \n",
            " Nivel 1 -->  |  \n",
            " Nivel 2 -->  |  \n",
            " Nivel 3 -->  |  \n",
            " Nivel 4 -->  |  \n",
            " Nivel 5 -->  |  \n",
            "\n"
          ],
          "name": "stdout"
        },
        {
          "output_type": "error",
          "ename": "IndexError",
          "evalue": "ignored",
          "traceback": [
            "\u001b[0;31m---------------------------------------------------------------------------\u001b[0m",
            "\u001b[0;31mIndexError\u001b[0m                                Traceback (most recent call last)",
            "\u001b[0;32m<ipython-input-3-8cb21ed4b317>\u001b[0m in \u001b[0;36m<module>\u001b[0;34m()\u001b[0m\n\u001b[1;32m     11\u001b[0m \u001b[0mbarco\u001b[0m\u001b[0;34m.\u001b[0m\u001b[0menqueue\u001b[0m\u001b[0;34m(\u001b[0m\u001b[0;36m1\u001b[0m\u001b[0;34m,\u001b[0m\u001b[0;34m'Niñas'\u001b[0m\u001b[0;34m)\u001b[0m\u001b[0;34m\u001b[0m\u001b[0;34m\u001b[0m\u001b[0m\n\u001b[1;32m     12\u001b[0m \u001b[0mbarco\u001b[0m\u001b[0;34m.\u001b[0m\u001b[0mto_string\u001b[0m\u001b[0;34m(\u001b[0m\u001b[0;34m)\u001b[0m\u001b[0;34m\u001b[0m\u001b[0;34m\u001b[0m\u001b[0m\n\u001b[0;32m---> 13\u001b[0;31m \u001b[0mbarco\u001b[0m\u001b[0;34m.\u001b[0m\u001b[0mdequeueAutomatico\u001b[0m\u001b[0;34m(\u001b[0m\u001b[0;34m)\u001b[0m\u001b[0;34m\u001b[0m\u001b[0;34m\u001b[0m\u001b[0m\n\u001b[0m",
            "\u001b[0;32m<ipython-input-2-b360577fd291>\u001b[0m in \u001b[0;36mdequeueAutomatico\u001b[0;34m(self)\u001b[0m\n\u001b[1;32m     29\u001b[0m     \u001b[0;32mwhile\u001b[0m \u001b[0;32mnot\u001b[0m \u001b[0mself\u001b[0m\u001b[0;34m.\u001b[0m\u001b[0mis_empty\u001b[0m\u001b[0;34m(\u001b[0m\u001b[0;34m)\u001b[0m\u001b[0;34m:\u001b[0m\u001b[0;34m\u001b[0m\u001b[0;34m\u001b[0m\u001b[0m\n\u001b[1;32m     30\u001b[0m       \u001b[0mprint\u001b[0m\u001b[0;34m(\u001b[0m\u001b[0;34m\"\"\u001b[0m\u001b[0;34m)\u001b[0m\u001b[0;34m\u001b[0m\u001b[0;34m\u001b[0m\u001b[0m\n\u001b[0;32m---> 31\u001b[0;31m       \u001b[0mself\u001b[0m\u001b[0;34m.\u001b[0m\u001b[0mdequeue\u001b[0m\u001b[0;34m(\u001b[0m\u001b[0;34m)\u001b[0m\u001b[0;34m\u001b[0m\u001b[0;34m\u001b[0m\u001b[0m\n\u001b[0m\u001b[1;32m     32\u001b[0m       \u001b[0mself\u001b[0m\u001b[0;34m.\u001b[0m\u001b[0mto_string\u001b[0m\u001b[0;34m(\u001b[0m\u001b[0;34m)\u001b[0m\u001b[0;34m\u001b[0m\u001b[0;34m\u001b[0m\u001b[0m\n\u001b[1;32m     33\u001b[0m \u001b[0;34m\u001b[0m\u001b[0m\n",
            "\u001b[0;32m<ipython-input-2-b360577fd291>\u001b[0m in \u001b[0;36mdequeue\u001b[0;34m(self)\u001b[0m\n\u001b[1;32m     20\u001b[0m     \u001b[0;32mif\u001b[0m \u001b[0;32mnot\u001b[0m \u001b[0mself\u001b[0m\u001b[0;34m.\u001b[0m\u001b[0mis_empty\u001b[0m\u001b[0;34m(\u001b[0m\u001b[0;34m)\u001b[0m\u001b[0;34m:\u001b[0m\u001b[0;34m\u001b[0m\u001b[0;34m\u001b[0m\u001b[0m\n\u001b[1;32m     21\u001b[0m       \u001b[0mnivel\u001b[0m \u001b[0;34m=\u001b[0m \u001b[0;36m0\u001b[0m\u001b[0;34m\u001b[0m\u001b[0;34m\u001b[0m\u001b[0m\n\u001b[0;32m---> 22\u001b[0;31m       \u001b[0;32mwhile\u001b[0m \u001b[0mself\u001b[0m\u001b[0;34m.\u001b[0m\u001b[0m__data\u001b[0m\u001b[0;34m[\u001b[0m\u001b[0mnivel\u001b[0m\u001b[0;34m]\u001b[0m\u001b[0;34m.\u001b[0m\u001b[0mis_empty\u001b[0m\u001b[0;34m(\u001b[0m\u001b[0;34m)\u001b[0m\u001b[0;34m:\u001b[0m\u001b[0;34m\u001b[0m\u001b[0;34m\u001b[0m\u001b[0m\n\u001b[0m\u001b[1;32m     23\u001b[0m         \u001b[0mnivel\u001b[0m \u001b[0;34m+=\u001b[0m \u001b[0;36m1\u001b[0m\u001b[0;34m\u001b[0m\u001b[0;34m\u001b[0m\u001b[0m\n\u001b[1;32m     24\u001b[0m     \u001b[0;32melif\u001b[0m \u001b[0mself\u001b[0m\u001b[0;34m.\u001b[0m\u001b[0mis_empty\u001b[0m\u001b[0;34m(\u001b[0m\u001b[0;34m)\u001b[0m\u001b[0;34m:\u001b[0m\u001b[0;34m\u001b[0m\u001b[0;34m\u001b[0m\u001b[0m\n",
            "\u001b[0;31mIndexError\u001b[0m: list index out of range"
          ]
        }
      ]
    }
  ]
}