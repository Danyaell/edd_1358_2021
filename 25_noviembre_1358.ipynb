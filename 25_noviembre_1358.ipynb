{
  "nbformat": 4,
  "nbformat_minor": 0,
  "metadata": {
    "colab": {
      "name": "25_noviembre_1358.ipynb",
      "provenance": [],
      "collapsed_sections": [],
      "authorship_tag": "ABX9TyN5G/V/tIjf0PX7AJcUdvq5",
      "include_colab_link": true
    },
    "kernelspec": {
      "name": "python3",
      "display_name": "Python 3"
    }
  },
  "cells": [
    {
      "cell_type": "markdown",
      "metadata": {
        "id": "view-in-github",
        "colab_type": "text"
      },
      "source": [
        "<a href=\"https://colab.research.google.com/github/Danyaell/edd_1358_2021/blob/master/25_noviembre_1358.ipynb\" target=\"_parent\"><img src=\"https://colab.research.google.com/assets/colab-badge.svg\" alt=\"Open In Colab\"/></a>"
      ]
    },
    {
      "cell_type": "code",
      "metadata": {
        "id": "lss7MviJJ5P3"
      },
      "source": [
        "class NodoDoble:\n",
        "    def __init__(self, value, previo = None, siguiente = None):\n",
        "        self.data = value\n",
        "        self.prev = previo\n",
        "        self.next = siguiente\n",
        "\n",
        "class DoubleLinkedList:\n",
        "    def __init__ (self):\n",
        "        self.__head = None\n",
        "        self.__tail = None\n",
        "        self._size = 0\n",
        "\n",
        "    def get_size(self):\n",
        "        return self._size\n",
        "\n",
        "    def is_empty(self):\n",
        "        return self._size == 0\n",
        "\n",
        "    def append(self, value):\n",
        "        if self.is_empty():\n",
        "            nuevo = NodoDoble(value)\n",
        "            self.__head = nuevo\n",
        "            self.__tail = nuevo\n",
        "        else:\n",
        "            nuevo = NodoDoble(value, self.__tail, None)\n",
        "            self.__tail = nuevo\n",
        "            self.__tail.next = nuevo\n",
        "        \n",
        "        self._size += 1\n",
        "\n",
        "    def transversal(self):\n",
        "        curr_node = self.__head\n",
        "        while curr_node != None:\n",
        "            print(\"<---\", curr_node.data, \"--->\", end = \"\")\n",
        "            curr_node = curr_node.next\n",
        "        print(\"\")"
      ],
      "execution_count": 19,
      "outputs": []
    },
    {
      "cell_type": "code",
      "metadata": {
        "colab": {
          "base_uri": "https://localhost:8080/"
        },
        "id": "WPu74a54RkJa",
        "outputId": "0016a569-a246-48ad-cd96-e0bc0466cba1"
      },
      "source": [
        "ldl = DoubleLinkedList()\n",
        "print(ldl.get_size())\n",
        "ldl.append(10)\n",
        "print(ldl.get_size())\n",
        "ldl.transversal()\n",
        "ldl.append(20)\n",
        "ldl.append(30)\n",
        "ldl.transversal()\n"
      ],
      "execution_count": 24,
      "outputs": [
        {
          "output_type": "stream",
          "text": [
            "0\n",
            "1\n",
            "<--- 10 --->\n",
            "<--- 10 --->\n"
          ],
          "name": "stdout"
        }
      ]
    },
    {
      "cell_type": "code",
      "metadata": {
        "id": "J93v08MSRkIh"
      },
      "source": [
        ""
      ],
      "execution_count": null,
      "outputs": []
    }
  ]
}