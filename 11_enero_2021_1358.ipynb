{
  "nbformat": 4,
  "nbformat_minor": 0,
  "metadata": {
    "colab": {
      "name": "11_enero_2021_1358.ipynb",
      "provenance": [],
      "collapsed_sections": [],
      "authorship_tag": "ABX9TyNCfofN9a1i/ck2ahNomsd4",
      "include_colab_link": true
    },
    "kernelspec": {
      "name": "python3",
      "display_name": "Python 3"
    }
  },
  "cells": [
    {
      "cell_type": "markdown",
      "metadata": {
        "id": "view-in-github",
        "colab_type": "text"
      },
      "source": [
        "<a href=\"https://colab.research.google.com/github/Danyaell/edd_1358_2021/blob/master/11_enero_2021_1358.ipynb\" target=\"_parent\"><img src=\"https://colab.research.google.com/assets/colab-badge.svg\" alt=\"Open In Colab\"/></a>"
      ]
    },
    {
      "cell_type": "code",
      "metadata": {
        "id": "Ik-GeffgeHfl"
      },
      "source": [
        "class NodoArbol:\r\n",
        "  def __init__(self, dato, hijo_izq=None, hijo_der=None):\r\n",
        "    self.dato=dato\r\n",
        "    self.hijo_izq= hijo_izq\r\n",
        "    self.hijo_der= hijo_der"
      ],
      "execution_count": 1,
      "outputs": []
    },
    {
      "cell_type": "code",
      "metadata": {
        "colab": {
          "base_uri": "https://localhost:8080/"
        },
        "id": "BP2X1SR7eKFo",
        "outputId": "555dbada-8561-444d-950a-065ac0e9d4a9"
      },
      "source": [
        "arbol= NodoArbol('R')\r\n",
        "arbol.hijo_izq= NodoArbol('C')\r\n",
        "arbol.hijo_der=NodoArbol('H')\r\n",
        "\r\n",
        "#imrpimir el valor de nodo raiz\r\n",
        "print(arbol.dato)\r\n",
        "#imrpimir el valor del hijo izq\r\n",
        "print(arbol.hijo_izq.dato)\r\n",
        "#imrpimir el valor del hijo der\r\n",
        "print(arbol.hijo_der.dato)"
      ],
      "execution_count": 2,
      "outputs": [
        {
          "output_type": "stream",
          "text": [
            "R\n",
            "C\n",
            "H\n"
          ],
          "name": "stdout"
        }
      ]
    },
    {
      "cell_type": "code",
      "metadata": {
        "colab": {
          "base_uri": "https://localhost:8080/"
        },
        "id": "1Xzg0pg1eL5G",
        "outputId": "1fd27cd5-aca9-4d4d-d221-ddbc779f8fa3"
      },
      "source": [
        "arbol_v2= NodoArbol('R',NodoArbol('C'),NodoArbol('H'))\r\n",
        "print(arbol_v2.dato)\r\n",
        "print(arbol_v2.hijo_izq.dato)\r\n",
        "print(arbol_v2.hijo_der.dato)"
      ],
      "execution_count": 3,
      "outputs": [
        {
          "output_type": "stream",
          "text": [
            "R\n",
            "C\n",
            "H\n"
          ],
          "name": "stdout"
        }
      ]
    },
    {
      "cell_type": "code",
      "metadata": {
        "colab": {
          "base_uri": "https://localhost:8080/"
        },
        "id": "6LjQjtTMeP5u",
        "outputId": "a4cc9716-9645-4387-dbd7-d72cb4e1f42f"
      },
      "source": [
        "#Ejercicio 2\r\n",
        "arbol2= NodoArbol('4',NodoArbol('3',NodoArbol('2',NodoArbol('2'))),NodoArbol('5'))\r\n",
        "print(arbol2.dato)\r\n",
        "print(arbol2.hijo_izq.dato)\r\n",
        "print(arbol2.hijo_der.dato)\r\n",
        "print(arbol2.hijo_izq.hijo_izq.dato)\r\n",
        "print(arbol2.hijo_izq.hijo_izq.hijo_izq.dato)\r\n",
        "\r\n",
        "#imprimir un dato al final de la lista\r\n",
        "print(\"Imprimir el ultimo dato de n dimensiones\")\r\n",
        "aux= arbol2\r\n",
        "while aux.hijo_izq != None:\r\n",
        "  aux= aux.hijo_izq\r\n",
        "print(aux.dato)"
      ],
      "execution_count": 5,
      "outputs": [
        {
          "output_type": "stream",
          "text": [
            "4\n",
            "3\n",
            "5\n",
            "2\n",
            "2\n",
            "Imprimir el ultimo dato de n dimensiones\n",
            "2\n"
          ],
          "name": "stdout"
        }
      ]
    },
    {
      "cell_type": "code",
      "metadata": {
        "id": "3RhQC_FVeULH"
      },
      "source": [
        "class NodoArbol:\r\n",
        "  def __init__(self, dato, hijo_izq=None, hijo_central=None, hijo_der=None):\r\n",
        "    self.dato=dato\r\n",
        "    self.hijo_izq= hijo_izq\r\n",
        "    self.hijo_central= hijo_central\r\n",
        "    self.hijo_der= hijo_der"
      ],
      "execution_count": null,
      "outputs": []
    },
    {
      "cell_type": "code",
      "metadata": {
        "id": "xpTemIiueamW"
      },
      "source": [
        "arbol3= NodoArbol('R',NodoArbol('I',NodoArbol(None,NodoArbol('X'))),NodoArbol('C', NodoArbol('Y')),NodoArbol('D',None,None,NodoArbol('Z')))"
      ],
      "execution_count": null,
      "outputs": []
    }
  ]
}