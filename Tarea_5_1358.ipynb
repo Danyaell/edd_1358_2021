{
  "nbformat": 4,
  "nbformat_minor": 0,
  "metadata": {
    "colab": {
      "name": "Tarea_5_1358.ipynb",
      "provenance": [],
      "collapsed_sections": [],
      "authorship_tag": "ABX9TyN7U0Ud/aaTMbA0nYhakrs7",
      "include_colab_link": true
    },
    "kernelspec": {
      "name": "python3",
      "display_name": "Python 3"
    }
  },
  "cells": [
    {
      "cell_type": "markdown",
      "metadata": {
        "id": "view-in-github",
        "colab_type": "text"
      },
      "source": [
        "<a href=\"https://colab.research.google.com/github/Danyaell/edd_1358_2021/blob/master/Tarea_5_1358.ipynb\" target=\"_parent\"><img src=\"https://colab.research.google.com/assets/colab-badge.svg\" alt=\"Open In Colab\"/></a>"
      ]
    },
    {
      "cell_type": "code",
      "metadata": {
        "id": "nLnhHwVd9nbS"
      },
      "source": [
        "class NodoDoble:\n",
        "  def __init__(self, value, previo = None, siguiente = None):\n",
        "    self.data = value\n",
        "    self.prev = previo\n",
        "    self.next = siguiente\n",
        "\n",
        "class DoubleLinkedList:\n",
        "  def __init__( self ):\n",
        "    self.__head = None\n",
        "    self.__tail = None\n",
        "    self.__size = 0\n",
        "  \n",
        "  def get_size (self ):\n",
        "    return self.__size\n",
        "\n",
        "  def is_empty( self ):\n",
        "    return self.__size == 0\n",
        "\n",
        "  def append ( self, value ):\n",
        "    if self.is_empty():\n",
        "      nuevo = NodoDoble( value, None, None)\n",
        "      self.__head = nuevo\n",
        "      self.__tail = nuevo\n",
        "    else:\n",
        "      nuevo = NodoDoble( value, self.__tail, None)\n",
        "      self.__tail.next = nuevo\n",
        "      self.__tail = nuevo\n",
        "    self.__size += 1\n",
        "\n",
        "  def find_from_tail( self, value ):\n",
        "    posicion = self.get_size()\n",
        "    posicion = posicion - 1\n",
        "    if self.is_empty():\n",
        "     pass\n",
        "    else:\n",
        "      curr_node = self.__tail\n",
        "      while curr_node.data != value and curr_node != None:\n",
        "        curr_node = curr_node.prev\n",
        "        posicion = posicion - 1\n",
        "\n",
        "      if curr_node.data == value:\n",
        "        print(f\"Está en la posición: { posicion }\")\n",
        "\n",
        "  def find_from_head( self, value ):\n",
        "    posicion = 0\n",
        "    if self.is_empty():\n",
        "     pass\n",
        "    else:\n",
        "      curr_node = self.__head\n",
        "      while curr_node.data != value and curr_node != None:\n",
        "        curr_node = curr_node.next\n",
        "        posicion = posicion + 1\n",
        "\n",
        "      if curr_node.data == value:\n",
        "        print(f\"Está en la posición: { posicion }\")\n",
        "\n",
        "\n",
        "  def transversal( self ):\n",
        "    curr_node = self.__head\n",
        "    while curr_node != None:\n",
        "      print(\"<---\", curr_node.data , \"---->\", end = \"\")\n",
        "      curr_node = curr_node.next\n",
        "    print(\" \") \n",
        "\n",
        "  def reverse_transversal( self ):\n",
        "    curr_node = self.__tail\n",
        "    while curr_node != None:\n",
        "      print(\"<---\", curr_node.data , \"---->\", end = \"\")\n",
        "      curr_node = curr_node.prev\n",
        "    print(\" \") \n",
        "\n",
        "\n",
        "  def remove_from_head(self, value):\n",
        "    if self.is_empty():\n",
        "     pass\n",
        "    else:\n",
        "      curr_node= self.__head\n",
        "      while curr_node.data != value and curr_node != None:\n",
        "        curr_node = curr_node.next\n",
        "      if curr_node.data == value:\n",
        "        curr_node.prev.next = curr_node.next\n",
        "        curr_node.next.prev = curr_node.prev\n",
        "    self.__size -= 1\n",
        "\n",
        "  def remove_from_tail(self, value):\n",
        "    if self.is_empty():\n",
        "     pass\n",
        "    else:\n",
        "      curr_node= self.__tail\n",
        "      while curr_node.data != value and curr_node != None:\n",
        "        curr_node = curr_node.prev\n",
        "      if curr_node.data == value:\n",
        "        curr_node.next.prev = curr_node.prev\n",
        "        curr_node.prev.next = curr_node.next\n",
        "    self.__size -= 1"
      ],
      "execution_count": 1,
      "outputs": []
    },
    {
      "cell_type": "code",
      "metadata": {
        "colab": {
          "base_uri": "https://localhost:8080/"
        },
        "id": "YJQXaZ2f9wza",
        "outputId": "e7f2e063-086c-4fab-a56b-d800c58252ae"
      },
      "source": [
        "ldl = DoubleLinkedList()\n",
        "print(ldl.get_size())\n",
        "ldl.append(10)\n",
        "print(ldl.get_size())\n",
        "ldl.append(20)\n",
        "ldl.append(30)\n",
        "ldl.append(40)\n",
        "ldl.append(50)\n",
        "ldl.transversal()\n",
        "ldl.remove_from_head( 20 )\n",
        "ldl.transversal()\n",
        "print(\"Se imprime la misma cadena pero al revez\")\n",
        "ldl.reverse_transversal()\n",
        "print(\"Se elimina el valor 40\")\n",
        "ldl.remove_from_tail( 40 )\n",
        "ldl.reverse_transversal()\n",
        "print(\"Se busca la pocision que ocupa el número cincuenta en la lista (usando como pibote Head)\")\n",
        "ldl.find_from_head( 50 )\n",
        "print(\"Se busca la posición que ocupa el numero treinta en la lista (usando como pibote Tail)\")\n",
        "ldl.find_from_tail( 30 )\n",
        "ldl.transversal()"
      ],
      "execution_count": 4,
      "outputs": [
        {
          "output_type": "stream",
          "text": [
            "0\n",
            "1\n",
            "<--- 10 ----><--- 20 ----><--- 30 ----><--- 40 ----><--- 50 ----> \n",
            "<--- 10 ----><--- 30 ----><--- 40 ----><--- 50 ----> \n",
            "Se imprime la misma cadena pero al revez\n",
            "<--- 50 ----><--- 40 ----><--- 30 ----><--- 10 ----> \n",
            "Se elimina el valor 40\n",
            "<--- 50 ----><--- 30 ----><--- 10 ----> \n",
            "Se busca la pocision que ocupa el número cincuenta en la lista (usando como pibote Head)\n",
            "Está en la posición: 2\n",
            "Se busca la posición que ocupa el numero treinta en la lista (usando como pibote Tail)\n",
            "Está en la posición: 1\n",
            "<--- 10 ----><--- 30 ----><--- 50 ----> \n"
          ],
          "name": "stdout"
        }
      ]
    }
  ]
}