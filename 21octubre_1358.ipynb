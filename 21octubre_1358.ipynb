{
  "nbformat": 4,
  "nbformat_minor": 0,
  "metadata": {
    "colab": {
      "name": "21octubre_1358.ipynb",
      "provenance": [],
      "collapsed_sections": [],
      "authorship_tag": "ABX9TyOrmaf4+gZeieYUKzBSM/Ie",
      "include_colab_link": true
    },
    "kernelspec": {
      "name": "python3",
      "display_name": "Python 3"
    }
  },
  "cells": [
    {
      "cell_type": "markdown",
      "metadata": {
        "id": "view-in-github",
        "colab_type": "text"
      },
      "source": [
        "<a href=\"https://colab.research.google.com/github/Danyaell/edd_1358_2021/blob/master/21octubre_1358.ipynb\" target=\"_parent\"><img src=\"https://colab.research.google.com/assets/colab-badge.svg\" alt=\"Open In Colab\"/></a>"
      ]
    },
    {
      "cell_type": "code",
      "metadata": {
        "id": "nTqrgZFdfWmn"
      },
      "source": [
        "#encapsulamientos\n",
        "#encapsulamiento al estilo tradicional de Java\n",
        "class SmartPhone:\n",
        "    def _init_(self,m):\n",
        "      self.__marca=m\n",
        "\n",
        "    def set_marca(self, m):\n",
        "      self.__marca=m\n",
        "\n",
        "    def get_marca(self):\n",
        "      return self.__marca\n",
        "\n",
        "    def to_String(self):\n",
        "      return \"La marca del telefono es: \" + self.__marca\n",
        "sp1= SmartPhone('Huawei')\n",
        "print(sp1.to_String())\n",
        "sp1.set_marca(\"IPhone X\")\n",
        "print(sp1.to_String())"
      ],
      "execution_count": null,
      "outputs": []
    },
    {
      "cell_type": "code",
      "metadata": {
        "id": "JSJ5xBokfdlT"
      },
      "source": [
        "#encapsulamiento al estido de Phyton3\n",
        "#usa 'decoradoes'\n",
        "class SmartPhone:\n",
        "    def _init_(self, m):\n",
        "      #llamando al metodo set de marca\n",
        "      self.marca=m\n",
        "\n",
        "    #con @property se declara un metodo getter de un atributo\n",
        "    #al mismo tiempo se declara self.__marca y se hace privado\n",
        "    @property\n",
        "    def marca(self):\n",
        "      #print(\"En el metodo get de marca \")\n",
        "      return self.__marca\n",
        "\n",
        "    @marca.setter\n",
        "    def marca(self, m):\n",
        "      if m in [\"Lenovo\", \"Huawie\", \"IPhone\", \"Motorola\", \"Sony\", \"Xiaomi\"]:\n",
        "        self.__marca=m\n",
        "      else:\n",
        "        print(\"Asignacion no valida\")\n",
        "\n",
        "    def to_string(self):\n",
        "      return \"La marca es: \" + self.marca\n",
        "\n",
        "sp2= SmartPhone('Xiaomi')\n",
        "print(sp2.to_string())\n",
        "\n",
        "#el metodo marca es el setter al mismo tiempo\n",
        "sp2.marca='Motorola'\n",
        "print(sp2.to_string())\n",
        "#es posible llamarlo directamente\n",
        "print(sp2.marca)\n",
        "\n",
        "#este metodo facilita verificar datos\n",
        "sp2.marca=\"12332 sjksd\"\n",
        "print(sp2.marca)"
      ],
      "execution_count": null,
      "outputs": []
    },
    {
      "cell_type": "code",
      "metadata": {
        "id": "L_UlD6Cnfll5"
      },
      "source": [
        "#Herencia\n",
        "class Telefono_Trabajo(SmartPhone):\n",
        "    def _init_ (self, m):\n",
        "      self.marca=m\n",
        "\n",
        "sp3=Telefono_Trabajo('Motorola')\n",
        "print(sp3.marca)"
      ],
      "execution_count": null,
      "outputs": []
    }
  ]
}