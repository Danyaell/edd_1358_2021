{
  "nbformat": 4,
  "nbformat_minor": 0,
  "metadata": {
    "colab": {
      "name": "30septiembre_1358.ipynb",
      "provenance": [],
      "collapsed_sections": [],
      "authorship_tag": "ABX9TyOXsZHXsmNSTMIOjcz1WRTF",
      "include_colab_link": true
    },
    "kernelspec": {
      "name": "python3",
      "display_name": "Python 3"
    }
  },
  "cells": [
    {
      "cell_type": "markdown",
      "metadata": {
        "id": "view-in-github",
        "colab_type": "text"
      },
      "source": [
        "<a href=\"https://colab.research.google.com/github/Danyaell/edd_1358_2021/blob/master/30septiembre_1358.ipynb\" target=\"_parent\"><img src=\"https://colab.research.google.com/assets/colab-badge.svg\" alt=\"Open In Colab\"/></a>"
      ]
    },
    {
      "cell_type": "markdown",
      "metadata": {
        "id": "CzS8a3a7tCT5"
      },
      "source": [
        "# Fundamentos Phyton 3\n",
        "### tipos de dato básicos\n",
        "edad = 13\n",
        "nombre = \"José\"\n",
        "estatura = 1.67\n",
        "tiene_ine = true\n",
        "\n",
        "### compuestos\n",
        "\n",
        "### Listas\n",
        "Son mutables\n",
        "Se accede a los elementos vía el índice\n",
        "Los elementos pueden ser de diferente tipo\n",
        "\n",
        "lista_ejemplo = [\"manzana\", 1.57, True, [\"rojo\", \"azul\"] ]\n",
        "\n",
        "#### Tuplas\n",
        "Son inmutables se accede a los elementos vía el índice\n",
        "Los elementos pueden ser de diferente tipo\n",
        "\n",
        "tupla_ejemplo = ( \"root\" , \"123.322.45.4\", \"1234dios\" )\n",
        "\n",
        "#### Diccionarios\n",
        "Son equivalentes a los JSON de JS.\n",
        "\n",
        "#### Sets\n",
        "Son datos agrupados"
      ]
    },
    {
      "cell_type": "code",
      "metadata": {
        "id": "XLWg2GfUuVy_",
        "outputId": "3abd3e12-a8ac-4d27-c7f4-9e0fb2ea341d",
        "colab": {
          "base_uri": "https://localhost:8080/",
          "height": 204
        }
      },
      "source": [
        "lista_ejemplo = [\"manzana\", 1.57, True, [\"rojo\", \"azul\"] ]\n",
        "print(lista_ejemplo[1] )\n",
        "print(lista_ejemplo[3] )\n",
        "print(lista_ejemplo[3][1] )\n",
        "lista_ejemplo[0]=\"Manzana\"\n",
        "print(lista_ejemplo)\n",
        "# Comentario\n",
        "# Agregar un elemento a la lista\n",
        "lista_ejemplo.append(\"iPhone\")\n",
        "print(lista_ejemplo)\n",
        "\n",
        "# Sacar el último elemento\n",
        "valor = lista_ejemplo.pop()\n",
        "print(valor)\n",
        "print(lista_ejemplo)\n",
        "\n",
        "# Documentación del tipo de dato lista dir() y help()\n",
        "print(\"-----------------------\")\n",
        "\n",
        "lista_ejemplo.insert(1,\"Huawei\")\n",
        "print(lista_ejemplo)\n",
        "\n",
        "lista_ejemplo.count(\"Huawei\")\n",
        "\n",
        "colores = [\"rosa\", \"fiusca\", \"negro\"]\n",
        "\n",
        "# con append se agrega una lista a otra como un solo elemento\n",
        "\n",
        "# lista_ejemplo.append(colores)\n",
        "\n",
        "print(lista_ejemplo)\n",
        "\n",
        "# con extend se fusionan dos listas\n",
        "\n",
        "lista_ejemplo.extend(colores)\n",
        "print(lista_ejemplo)\n"
      ],
      "execution_count": 12,
      "outputs": [
        {
          "output_type": "stream",
          "text": [
            "1.57\n",
            "['rojo', 'azul']\n",
            "azul\n",
            "['Manzana', 1.57, True, ['rojo', 'azul']]\n",
            "['Manzana', 1.57, True, ['rojo', 'azul'], 'iPhone']\n",
            "iPhone\n",
            "['Manzana', 1.57, True, ['rojo', 'azul']]\n",
            "-----------------------\n",
            "['Manzana', 'Huawei', 1.57, True, ['rojo', 'azul']]\n",
            "['Manzana', 'Huawei', 1.57, True, ['rojo', 'azul']]\n",
            "['Manzana', 'Huawei', 1.57, True, ['rojo', 'azul'], 'rosa', 'fiusca', 'negro']\n"
          ],
          "name": "stdout"
        }
      ]
    }
  ]
}