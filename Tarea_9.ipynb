{
  "nbformat": 4,
  "nbformat_minor": 0,
  "metadata": {
    "colab": {
      "name": "Tarea_9.ipynb",
      "provenance": [],
      "collapsed_sections": [],
      "authorship_tag": "ABX9TyPp3IHapw3HmtuvdfgL62oi",
      "include_colab_link": true
    },
    "kernelspec": {
      "name": "python3",
      "display_name": "Python 3"
    }
  },
  "cells": [
    {
      "cell_type": "markdown",
      "metadata": {
        "id": "view-in-github",
        "colab_type": "text"
      },
      "source": [
        "<a href=\"https://colab.research.google.com/github/Danyaell/edd_1358_2021/blob/master/Tarea_9.ipynb\" target=\"_parent\"><img src=\"https://colab.research.google.com/assets/colab-badge.svg\" alt=\"Open In Colab\"/></a>"
      ]
    },
    {
      "cell_type": "code",
      "metadata": {
        "id": "B1hzfj5jj1CC"
      },
      "source": [
        "class Queue:\r\n",
        "    def __init__(self):\r\n",
        "        self.__data = list()\r\n",
        "\r\n",
        "    def is_empty(self):\r\n",
        "        return len(self.__data) == 0\r\n",
        "\r\n",
        "    def length(self):\r\n",
        "        return len(self.__data)\r\n",
        "\r\n",
        "    def enqueue(self, item):\r\n",
        "        self.__data.append(item)\r\n",
        "\r\n",
        "    def dequeue(self):\r\n",
        "        if not self.is_empty():\r\n",
        "            return self.__data.pop(0)\r\n",
        "        else:\r\n",
        "            return None\r\n",
        "\r\n",
        "    def to_String(self):\r\n",
        "        cadena = \"\"\r\n",
        "        for elem in self.__data:\r\n",
        "            cadena = cadena + \"| \" + elem\r\n",
        "        cadena = cadena + \" |\"\r\n",
        "        return cadena"
      ],
      "execution_count": 1,
      "outputs": []
    },
    {
      "cell_type": "code",
      "metadata": {
        "id": "b03DVX8-j5nw"
      },
      "source": [
        "class BoundedPriorityQueue:\r\n",
        "    def __init__(self, niveles):\r\n",
        "        self.__data = [Queue() for x in range(niveles)]\r\n",
        "        self.__size = 0\r\n",
        "\r\n",
        "    def is_empty(self):\r\n",
        "        return self.__size == 0\r\n",
        "\r\n",
        "    def queues_are_empty(self):\r\n",
        "        FilasVacias = True\r\n",
        "        for fila in self.__data:\r\n",
        "            if not fila.is_empty():\r\n",
        "                FilasVacias = False\r\n",
        "        return FilasVacias\r\n",
        "\r\n",
        "    def length(self):\r\n",
        "        return self.__size\r\n",
        "\r\n",
        "    def enqueue(self, prioridad, elem):\r\n",
        "        if prioridad < len(self.__data) and prioridad >= 0:\r\n",
        "            self.__data[prioridad].enqueue(elem)\r\n",
        "            self.__size += 1\r\n",
        "        else:\r\n",
        "            print(\"Prioridad fuera de rango.\")\r\n",
        "\r\n",
        "    def dequeue(self):\r\n",
        "        if not self.is_empty():\r\n",
        "            nivel = 0\r\n",
        "            while self.__data[nivel].is_empty():\r\n",
        "                nivel += 1\r\n",
        "            return self.__data[nivel].dequeue()\r\n",
        "\r\n",
        "    def to_String(self):\r\n",
        "        for nivel in range(len(self.__data)):\r\n",
        "            print(f\"Nivel {nivel} --> {self.__data[nivel].to_String()}\")"
      ],
      "execution_count": 2,
      "outputs": []
    },
    {
      "cell_type": "code",
      "metadata": {
        "colab": {
          "base_uri": "https://localhost:8080/"
        },
        "id": "5mr_4lM4j8XH",
        "outputId": "16c09a13-b715-4cf9-d5fe-b827bf900a70"
      },
      "source": [
        "barco = BoundedPriorityQueue(6)\r\n",
        "\r\n",
        "tripulantes = [(4, \"Maestre\"), (2, \"Niños\"), (4, \"Mecanico\"), (3, \"Hombres\"), (4, \"Vigia\"), (5, \"Capitan\"),\r\n",
        "               (4, \"Timonel\"), (3, \"Mujeres\"), (2, \"3ra Edad\"), (1, \"Niñas\")]\r\n",
        "\r\n",
        "for elem in tripulantes:\r\n",
        "    barco.enqueue(elem[0],elem[1])\r\n",
        "    print(f\"Ha ingresado {elem[1]} en el nivel {elem[0]}\")\r\n",
        "    print()\r\n",
        "\r\n",
        "barco.to_String()\r\n",
        "print()\r\n",
        "\r\n",
        "while not barco.queues_are_empty():\r\n",
        "    bajo = barco.dequeue()\r\n",
        "    print(f\"{bajo} dejo el barco\")\r\n",
        "    print()\r\n",
        "print(\"El barco ha sido evacuado por completo\")"
      ],
      "execution_count": 3,
      "outputs": [
        {
          "output_type": "stream",
          "text": [
            "Ha ingresado Maestre en el nivel 4\n",
            "\n",
            "Ha ingresado Niños en el nivel 2\n",
            "\n",
            "Ha ingresado Mecanico en el nivel 4\n",
            "\n",
            "Ha ingresado Hombres en el nivel 3\n",
            "\n",
            "Ha ingresado Vigia en el nivel 4\n",
            "\n",
            "Ha ingresado Capitan en el nivel 5\n",
            "\n",
            "Ha ingresado Timonel en el nivel 4\n",
            "\n",
            "Ha ingresado Mujeres en el nivel 3\n",
            "\n",
            "Ha ingresado 3ra Edad en el nivel 2\n",
            "\n",
            "Ha ingresado Niñas en el nivel 1\n",
            "\n",
            "Nivel 0 -->  |\n",
            "Nivel 1 --> | Niñas |\n",
            "Nivel 2 --> | Niños| 3ra Edad |\n",
            "Nivel 3 --> | Hombres| Mujeres |\n",
            "Nivel 4 --> | Maestre| Mecanico| Vigia| Timonel |\n",
            "Nivel 5 --> | Capitan |\n",
            "\n",
            "Niñas dejo el barco\n",
            "\n",
            "Niños dejo el barco\n",
            "\n",
            "3ra Edad dejo el barco\n",
            "\n",
            "Hombres dejo el barco\n",
            "\n",
            "Mujeres dejo el barco\n",
            "\n",
            "Maestre dejo el barco\n",
            "\n",
            "Mecanico dejo el barco\n",
            "\n",
            "Vigia dejo el barco\n",
            "\n",
            "Timonel dejo el barco\n",
            "\n",
            "Capitan dejo el barco\n",
            "\n",
            "El barco ha sido evacuado por completo\n"
          ],
          "name": "stdout"
        }
      ]
    }
  ]
}