{
  "nbformat": 4,
  "nbformat_minor": 0,
  "metadata": {
    "colab": {
      "name": "7octubre_1358.ipynb",
      "provenance": [],
      "collapsed_sections": [],
      "authorship_tag": "ABX9TyOlo6rfaH0p/fldfvXkWDWy",
      "include_colab_link": true
    },
    "kernelspec": {
      "name": "python3",
      "display_name": "Python 3"
    }
  },
  "cells": [
    {
      "cell_type": "markdown",
      "metadata": {
        "id": "view-in-github",
        "colab_type": "text"
      },
      "source": [
        "<a href=\"https://colab.research.google.com/github/Danyaell/edd_1358_2021/blob/master/7octubre_1358.ipynb\" target=\"_parent\"><img src=\"https://colab.research.google.com/assets/colab-badge.svg\" alt=\"Open In Colab\"/></a>"
      ]
    },
    {
      "cell_type": "code",
      "metadata": {
        "id": "uzNlIQ2-m_a3",
        "outputId": "69d2b332-90e7-4565-ae8e-af3d8c376486",
        "colab": {
          "base_uri": "https://localhost:8080/"
        }
      },
      "source": [
        "# Listas multidimension\n",
        "\n",
        "autos = [\"Mazda\",\"honda\",\"Akura\",\"Ford\",\"VW\"]\n",
        "telefonos = [\"iPhone\",\"Huawei Mate 30\", \"Xiaomi S10\",\"Alcatel t1000\"]\n",
        "sistemas_operativos = [ \"Windows\", \"Linux\" , \"Android\" , \"iOS\" ,\"MacOs\" ]\n",
        "procesadores = [[\"Intel\",3.1,True],[\"AMD\",2.7,False],[\"Motorola\",1.1,False]]\n",
        "\n",
        "\n",
        "lista_nd = [autos,telefonos,sistemas_operativos,procesadores]\n",
        "print(lista_nd)\n",
        "print(lista_nd[2][3])\n",
        "print(lista_nd[1][1][3:6])\n",
        "print(lista_nd[3][1][1])\n",
        "print(lista_nd[3][2][0][2:6])\n",
        "print(lista_nd[3][0][0][3:0:-1])\n",
        "\n",
        "# Concatenar listas\n",
        "colores = [\"rojo\",\"verde\",\"azul\",\"negro\"]\n",
        "flores = [\"margarita\",\"rosa\"]\n",
        "\n",
        "nueva = colores + flores\n",
        "print(nueva)\n",
        "print(colores)\n",
        "print(flores)\n",
        "\n",
        "# Con extends\n",
        "colores.extend(flores)\n",
        "print(colores)\n",
        "\n",
        "# Unpacking de las listas\n",
        "print(\"unpacking\")\n",
        "datos_personales = [\"José\",\"Pérez\",\"Juárez\",22,1.67,True]\n",
        "nombre,paterno,materno,edad,est,fuma = datos_personales\n",
        "print(f\"Nombre:{nombre}\\nPaterno: {paterno}\")"
      ],
      "execution_count": 23,
      "outputs": [
        {
          "output_type": "stream",
          "text": [
            "[['Mazda', 'honda', 'Akura', 'Ford', 'VW'], ['iPhone', 'Huawei Mate 30', 'Xiaomi S10', 'Alcatel t1000'], ['Windows', 'Linux', 'Android', 'iOS', 'MacOs'], [['Intel', 3.1, True], ['AMD', 2.7, False], ['Motorola', 1.1, False]]]\n",
            "iOS\n",
            "wei\n",
            "2.7\n",
            "toro\n",
            "etn\n",
            "['rojo', 'verde', 'azul', 'negro', 'margarita', 'rosa']\n",
            "['rojo', 'verde', 'azul', 'negro']\n",
            "['margarita', 'rosa']\n",
            "['rojo', 'verde', 'azul', 'negro', 'margarita', 'rosa']\n",
            "unpacking\n",
            "Nombre:José\n",
            "Paterno: Pérez\n"
          ],
          "name": "stdout"
        }
      ]
    },
    {
      "cell_type": "code",
      "metadata": {
        "id": "ZQUzEnR3uLru",
        "outputId": "72371d8c-ebca-430a-fbcc-be4c1365baf1",
        "colab": {
          "base_uri": "https://localhost:8080/"
        }
      },
      "source": [
        "# Tuplas\n",
        "bd = ('127.0.0.1','root','toor','1345')\n",
        "print(f\"usuario de la bd es { bd[1] }\")\n",
        "#bd[1]='user1'\n",
        "print(bd[1:3])\n"
      ],
      "execution_count": 28,
      "outputs": [
        {
          "output_type": "stream",
          "text": [
            "usuario de la bd es root\n",
            "('root', 'toor')\n"
          ],
          "name": "stdout"
        }
      ]
    },
    {
      "cell_type": "code",
      "metadata": {
        "id": "ulmW3XO0wTpx",
        "outputId": "29c47a5b-ef99-46a3-c096-5000c2fd90c6",
        "colab": {
          "base_uri": "https://localhost:8080/"
        }
      },
      "source": [
        "# Diccionarios\n",
        "alumno = {'nombre':'Juan','edad':22,'carrera':'ICO'}\n",
        "print(alumno)\n",
        "print(alumno['edad'])\n",
        "alumno = {\n",
        "    'nombre':'Juan',\n",
        "    'edad':22,\n",
        "    'carrera':'ICO',\n",
        "    'dirección': {'calle':'Bosques de áfrica',\n",
        "                  'numero':33,\n",
        "                  'delegación':'Nezahualcóyotl',\n",
        "                  'nombre_estado':'Estado de México'\n",
        "                  }\n",
        "}\n",
        "print(alumno['dirección'])\n",
        "print(alumno['dirección']['delegación'])\n",
        "print(alumno['dirección']['delegación'][3:7])\n",
        "print(alumno['dirección']['delegación'][3:7].upper())\n",
        "alumno['edad'] = 35\n",
        "print(alumno)\n",
        "alumno['promedio'] = 9.9\n",
        "print(alumno)\n",
        "alumno['materia']={'nombre':'CyP','calificacion':10}\n",
        "print(alumno)\n",
        "\n",
        "cliente = { 'id' : , 'nombre' : 'Carlos Slim' }\n",
        "print(cliente)"
      ],
      "execution_count": 45,
      "outputs": [
        {
          "output_type": "stream",
          "text": [
            "{'nombre': 'Juan', 'edad': 22, 'carrera': 'ICO'}\n",
            "22\n",
            "{'calle': 'Bosques de áfrica', 'numero': 33, 'delegación': 'Nezahualcóyotl', 'nombre_estado': 'Estado de México'}\n",
            "Nezahualcóyotl\n",
            "ahua\n",
            "AHUA\n",
            "{'nombre': 'Juan', 'edad': 35, 'carrera': 'ICO', 'dirección': {'calle': 'Bosques de áfrica', 'numero': 33, 'delegación': 'Nezahualcóyotl', 'nombre_estado': 'Estado de México'}}\n",
            "{'nombre': 'Juan', 'edad': 35, 'carrera': 'ICO', 'dirección': {'calle': 'Bosques de áfrica', 'numero': 33, 'delegación': 'Nezahualcóyotl', 'nombre_estado': 'Estado de México'}, 'promedio': 9.9}\n",
            "{'nombre': 'Juan', 'edad': 35, 'carrera': 'ICO', 'dirección': {'calle': 'Bosques de áfrica', 'numero': 33, 'delegación': 'Nezahualcóyotl', 'nombre_estado': 'Estado de México'}, 'promedio': 9.9, 'materia': {'nombre': 'CyP', 'calificacion': 10}}\n",
            "{'id': 1}\n"
          ],
          "name": "stdout"
        }
      ]
    }
  ]
}