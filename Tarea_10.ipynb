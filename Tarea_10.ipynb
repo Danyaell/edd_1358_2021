{
  "nbformat": 4,
  "nbformat_minor": 0,
  "metadata": {
    "colab": {
      "name": "Tarea_10.ipynb",
      "provenance": [],
      "collapsed_sections": [],
      "authorship_tag": "ABX9TyN7e6ABsqBiq9IrIH/zbcjX",
      "include_colab_link": true
    },
    "kernelspec": {
      "name": "python3",
      "display_name": "Python 3"
    }
  },
  "cells": [
    {
      "cell_type": "markdown",
      "metadata": {
        "id": "view-in-github",
        "colab_type": "text"
      },
      "source": [
        "<a href=\"https://colab.research.google.com/github/Danyaell/edd_1358_2021/blob/master/Tarea_10.ipynb\" target=\"_parent\"><img src=\"https://colab.research.google.com/assets/colab-badge.svg\" alt=\"Open In Colab\"/></a>"
      ]
    },
    {
      "cell_type": "code",
      "metadata": {
        "colab": {
          "base_uri": "https://localhost:8080/"
        },
        "id": "ckVm-ItjkMg4",
        "outputId": "137d6364-4e02-4aa9-a387-1f42aeac11e9"
      },
      "source": [
        "l = [5,5,5,5,5,5]\r\n",
        "\r\n",
        "def sumalista(lista):\r\n",
        "    if len(lista) == 0:\r\n",
        "        return 0\r\n",
        "    else:\r\n",
        "        valor = lista.pop()\r\n",
        "        return valor + sumalista(lista)\r\n",
        "\r\n",
        "print(sumalista(l))"
      ],
      "execution_count": 1,
      "outputs": [
        {
          "output_type": "stream",
          "text": [
            "30\n"
          ],
          "name": "stdout"
        }
      ]
    },
    {
      "cell_type": "code",
      "metadata": {
        "colab": {
          "base_uri": "https://localhost:8080/"
        },
        "id": "6c30ZrF5kR3X",
        "outputId": "ab21521d-9021-4bc3-d76a-a1b3aac735b1"
      },
      "source": [
        "def cont (n):\r\n",
        "    if n == 0:\r\n",
        "        return \"BOOOM!!\"\r\n",
        "    else:\r\n",
        "        print(n)\r\n",
        "        return cont(n-1)\r\n",
        "\r\n",
        "print(cont(15))"
      ],
      "execution_count": 4,
      "outputs": [
        {
          "output_type": "stream",
          "text": [
            "15\n",
            "14\n",
            "13\n",
            "12\n",
            "11\n",
            "10\n",
            "9\n",
            "8\n",
            "7\n",
            "6\n",
            "5\n",
            "4\n",
            "3\n",
            "2\n",
            "1\n",
            "BOOOM!!\n"
          ],
          "name": "stdout"
        }
      ]
    },
    {
      "cell_type": "code",
      "metadata": {
        "colab": {
          "base_uri": "https://localhost:8080/"
        },
        "id": "L_UptwELkXcl",
        "outputId": "d264bb70-7c4b-4145-de4c-7fdfec2558d3"
      },
      "source": [
        "class Stack:\r\n",
        "    def __init__(self):\r\n",
        "        self.__data = []\r\n",
        "        self.__size = 0\r\n",
        "\r\n",
        "    def pop(self):\r\n",
        "        self.__size = self.__size - 1\r\n",
        "        return self.__data.pop()\r\n",
        "\r\n",
        "    def get_size(self):\r\n",
        "        return self.__size\r\n",
        "\r\n",
        "    def peak(self):\r\n",
        "        if len(self.__data) > 0:\r\n",
        "            return self.__data[-1]\r\n",
        "        else:\r\n",
        "            return None\r\n",
        "\r\n",
        "    def push(self,value):\r\n",
        "        self.__data.append(value)\r\n",
        "        self.__size += 1\r\n",
        "\r\n",
        "    def to_string(self):\r\n",
        "        print(\"-\"*6)\r\n",
        "        for dato in self.__data[::-1]:\r\n",
        "            print(f\"| {dato} |\")\r\n",
        "            print(\"-\" * 6)\r\n",
        "        print(\"\")\r\n",
        "\r\n",
        "\r\n",
        "p = Stack()\r\n",
        "for n in range(7):\r\n",
        "    p.push(n)\r\n",
        "\r\n",
        "p.to_string()\r\n",
        "\r\n",
        "\r\n",
        "def extraer_elemento_medio(pila,mitad):\r\n",
        "    m = mitad\r\n",
        "    if pila.get_size() == m:\r\n",
        "        pila.pop()\r\n",
        "    else:\r\n",
        "        valor = pila.pop()\r\n",
        "        extraer_elemento_medio(pila,m)\r\n",
        "        pila.push(valor)\r\n",
        "\r\n",
        "def mitad(pila):\r\n",
        "    return round(pila.get_size() / 2)\r\n",
        "\r\n",
        "\r\n",
        "extraer_elemento_medio(p,mitad(p))\r\n",
        "p.to_string()"
      ],
      "execution_count": 3,
      "outputs": [
        {
          "output_type": "stream",
          "text": [
            "------\n",
            "| 6 |\n",
            "------\n",
            "| 5 |\n",
            "------\n",
            "| 4 |\n",
            "------\n",
            "| 3 |\n",
            "------\n",
            "| 2 |\n",
            "------\n",
            "| 1 |\n",
            "------\n",
            "| 0 |\n",
            "------\n",
            "\n",
            "------\n",
            "| 6 |\n",
            "------\n",
            "| 5 |\n",
            "------\n",
            "| 4 |\n",
            "------\n",
            "| 2 |\n",
            "------\n",
            "| 1 |\n",
            "------\n",
            "| 0 |\n",
            "------\n",
            "\n"
          ],
          "name": "stdout"
        }
      ]
    }
  ]
}